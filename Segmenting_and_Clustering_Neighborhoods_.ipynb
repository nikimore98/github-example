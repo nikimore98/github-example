{
    "cells": [
        {
            "metadata": {},
            "cell_type": "markdown",
            "source": "<h1 align=center><font size = 6>Segmenting and Clustering</font></h1>\n\n<h1 align=center><font size = 12>Neighborhoods in Toronto</font></h1>\n"
        },
        {
            "metadata": {},
            "cell_type": "markdown",
            "source": "\n# Peer-graded Assignment: Github_Segmenting and Clustering Neighborhoods in Toronto_Linda\n\n\n\n# Table of Contents\n\nQuestion 1: \n\n1.1. Notebook book created\n\n1.2. Web page scraped\n\n1.3. Data transformed into pandas dataframe \n\n#### 1.4. Dataframe cleaned and notebook annotate\n\n## 1.5. Q1_notebook on Github repository. (10 marks)\n\n\nQuestion 2: \n\n2.1. Used the Geocoder Package to get the coordinates of a few neighborhoods\n\n#### 2.2. Used the csv file to create the requested dataframe \n\n## 2.3. Q2_ notebook on Github repository. (2 marks)\n\n\n\nQuestion 3: \n\n3.1. Build a test set with boroughs in Toronto\n\n3.2. Replicate the same analysis with the neighborhoods in Toronto. \n\n3.3 Used the Foursquare API to explore neighborhoods in Toronto.\n\n3.4. Get the most common venue categories in each neighborhood \n\n3.5. Used these features to group the neighborhoods into clusters\n\n#### 3.4. Used the Folium library to generated maps to visualize neighborhoods on and how they cluster together.\n\n## 3.5. Q3_ notebook on Github repository. (3 marks)\n\n\n"
        },
        {
            "metadata": {},
            "cell_type": "markdown",
            "source": "<h1 align=center><font size = 8>...</font></h1>\n\n"
        },
        {
            "metadata": {},
            "cell_type": "markdown",
            "source": "# Question 1: \n\n## 1.1. Notebook book created\n\nwith the basic dependencies."
        },
        {
            "metadata": {},
            "cell_type": "code",
            "source": "import numpy as np # library to handle data in a vectorized manner\nimport pandas as pd # library for data analsysis\nimport requests # Library for web scraping\n\nprint('Libraries imported.')",
            "execution_count": 1,
            "outputs": [
                {
                    "name": "stdout",
                    "output_type": "stream",
                    "text": "Libraries imported.\n"
                }
            ]
        },
        {
            "metadata": {},
            "cell_type": "markdown",
            "source": "## 1.2. Web page scraped\n"
        },
        {
            "metadata": {},
            "cell_type": "markdown",
            "source": "About the Data, Wikipedia page, https://en.wikipedia.org/wiki/List_of_postal_codes_of_Canada:_M, \n- is a list of postal codes in Canada where the first letter is M. Postal codes beginning with M are located within the city of Toronto in the province of Ontario. \n\n- Scraping table from HTML using BeautifulSoup, write a Python program similar to scrape.py,from:\n\n##### Corey Schafer Python Programming Tutorial:\nThe code from this video can be found at: https://github.com/CoreyMSchafer/code...\n\n\n"
        },
        {
            "metadata": {},
            "cell_type": "code",
            "source": "# To run this, you can install BeautifulSoup\n# https://pypi.python.org/pypi/beautifulsoup4\n\n# Or download the file\n# http://beautiful-soup-4\n# and unzip it in the same directory as this file\nimport requests\nfrom urllib.request import urlopen\nfrom bs4 import BeautifulSoup\nimport ssl\nimport csv\n\nprint('BeautifulSoup  & csv imported.')",
            "execution_count": 2,
            "outputs": [
                {
                    "name": "stdout",
                    "output_type": "stream",
                    "text": "BeautifulSoup  & csv imported.\n"
                }
            ]
        },
        {
            "metadata": {},
            "cell_type": "code",
            "source": "# Ignore SSL certificate errors\nctx = ssl.create_default_context()\nctx.check_hostname = False\nctx.verify_mode = ssl.CERT_NONE\n\nprint('SSL certificate errors ignored.')",
            "execution_count": 3,
            "outputs": [
                {
                    "name": "stdout",
                    "output_type": "stream",
                    "text": "SSL certificate errors ignored.\n"
                }
            ]
        },
        {
            "metadata": {},
            "cell_type": "code",
            "source": "source = requests.get('https://en.wikipedia.org/wiki/List_of_postal_codes_of_Canada:_M').text\n\nsoup = BeautifulSoup(source, 'lxml')\n\n#print(soup.prettify())\nprint('soup ready')",
            "execution_count": 4,
            "outputs": [
                {
                    "name": "stdout",
                    "output_type": "stream",
                    "text": "soup ready\n"
                }
            ]
        },
        {
            "metadata": {},
            "cell_type": "code",
            "source": "table = soup.find('table',{'class':'wikitable sortable'})\n#table",
            "execution_count": 5,
            "outputs": []
        },
        {
            "metadata": {},
            "cell_type": "code",
            "source": "\ntable_rows = table.find_all('tr')\n\n#table_rows",
            "execution_count": 6,
            "outputs": []
        },
        {
            "metadata": {},
            "cell_type": "code",
            "source": "data = []\nfor row in table_rows:\n    data.append([t.text.strip() for t in row.find_all('td')])\n\ndf = pd.DataFrame(data, columns=['PostalCode', 'Borough', 'Neighbourhood'])\ndf = df[~df['PostalCode'].isnull()]  # to filter out bad rows\n\n#print(df.head(5))\n#print('***')\n#print(df.tail(5))",
            "execution_count": 7,
            "outputs": []
        },
        {
            "metadata": {},
            "cell_type": "markdown",
            "source": "## 1.3. Data transformed into pandas dataframe \n"
        },
        {
            "metadata": {},
            "cell_type": "code",
            "source": "df.info()",
            "execution_count": 8,
            "outputs": [
                {
                    "name": "stdout",
                    "output_type": "stream",
                    "text": "<class 'pandas.core.frame.DataFrame'>\nInt64Index: 288 entries, 1 to 288\nData columns (total 3 columns):\nPostalCode       288 non-null object\nBorough          288 non-null object\nNeighbourhood    288 non-null object\ndtypes: object(3)\nmemory usage: 9.0+ KB\n"
                }
            ]
        },
        {
            "metadata": {},
            "cell_type": "code",
            "source": "df.shape",
            "execution_count": 9,
            "outputs": [
                {
                    "data": {
                        "text/plain": "(288, 3)"
                    },
                    "execution_count": 9,
                    "metadata": {},
                    "output_type": "execute_result"
                }
            ]
        },
        {
            "metadata": {},
            "cell_type": "markdown",
            "source": "## 1.4. Dataframe cleaned and notebook annotate\n"
        },
        {
            "metadata": {},
            "cell_type": "markdown",
            "source": "Only process the cells that have an assigned borough, we can ignore cells with 'Not assigned' boroughs, like in rows 1 & 2."
        },
        {
            "metadata": {},
            "cell_type": "code",
            "source": "import pandas\nimport requests\nfrom bs4 import BeautifulSoup\nwebsite_text = requests.get('https://en.wikipedia.org/wiki/List_of_postal_codes_of_Canada:_M').text\nsoup = BeautifulSoup(website_text,'lxml')\n\ntable = soup.find('table',{'class':'wikitable sortable'})\ntable_rows = table.find_all('tr')\n\ndata = []\nfor row in table_rows:\n    data.append([t.text.strip() for t in row.find_all('td')])\n\ndf = pandas.DataFrame(data, columns=['PostalCode', 'Borough', 'Neighbourhood'])\ndf = df[~df['PostalCode'].isnull()]  # to filter out bad rows\n\n#df.head(15)",
            "execution_count": 10,
            "outputs": []
        },
        {
            "metadata": {},
            "cell_type": "code",
            "source": "\ndf.drop(df[df['Borough']==\"Not assigned\"].index,axis=0, inplace=True)\n#df.head()",
            "execution_count": 11,
            "outputs": []
        },
        {
            "metadata": {},
            "cell_type": "markdown",
            "source": "The dataframe can be reindex as follows:"
        },
        {
            "metadata": {},
            "cell_type": "code",
            "source": "df1 = df.reset_index()\n#df1.head()",
            "execution_count": 12,
            "outputs": []
        },
        {
            "metadata": {},
            "cell_type": "code",
            "source": "df1.info()",
            "execution_count": 13,
            "outputs": [
                {
                    "name": "stdout",
                    "output_type": "stream",
                    "text": "<class 'pandas.core.frame.DataFrame'>\nRangeIndex: 211 entries, 0 to 210\nData columns (total 4 columns):\nindex            211 non-null int64\nPostalCode       211 non-null object\nBorough          211 non-null object\nNeighbourhood    211 non-null object\ndtypes: int64(1), object(3)\nmemory usage: 6.7+ KB\n"
                }
            ]
        },
        {
            "metadata": {},
            "cell_type": "code",
            "source": "df1.shape",
            "execution_count": 14,
            "outputs": [
                {
                    "data": {
                        "text/plain": "(211, 4)"
                    },
                    "execution_count": 14,
                    "metadata": {},
                    "output_type": "execute_result"
                }
            ]
        },
        {
            "metadata": {},
            "cell_type": "markdown",
            "source": "More than one neighborhood can exist in one postal code area, M5A is listed twice and has two neighborhoods Harbourfront and Regent Park. These two rows will be combined into one row with the neighborhoods separated with a comma using groupby, see: \n\nhttps://pandas-docs.github.io/pandas-docs-travis/user_guide/groupby.html\n"
        },
        {
            "metadata": {},
            "cell_type": "code",
            "source": "df2= df1.groupby('PostalCode').agg(lambda x: ','.join(x))\n\n#df2.head()\n       ",
            "execution_count": 15,
            "outputs": []
        },
        {
            "metadata": {},
            "cell_type": "code",
            "source": "df2.info()",
            "execution_count": 16,
            "outputs": [
                {
                    "name": "stdout",
                    "output_type": "stream",
                    "text": "<class 'pandas.core.frame.DataFrame'>\nIndex: 103 entries, M1B to M9W\nData columns (total 2 columns):\nBorough          103 non-null object\nNeighbourhood    103 non-null object\ndtypes: object(2)\nmemory usage: 2.4+ KB\n"
                }
            ]
        },
        {
            "metadata": {},
            "cell_type": "code",
            "source": "df2.shape",
            "execution_count": 17,
            "outputs": [
                {
                    "data": {
                        "text/plain": "(103, 2)"
                    },
                    "execution_count": 17,
                    "metadata": {},
                    "output_type": "execute_result"
                }
            ]
        },
        {
            "metadata": {},
            "cell_type": "markdown",
            "source": "There are also cells that have an assigned neighbouhoods,like M7A, lets assign their boroughs as their neighbourhood, as follows:"
        },
        {
            "metadata": {},
            "cell_type": "code",
            "source": "\ndf2.loc[df2['Neighbourhood']==\"Not assigned\",'Neighbourhood']=df2.loc[df2['Neighbourhood']==\"Not assigned\",'Borough']\n\n#df2.head()\n\n",
            "execution_count": 18,
            "outputs": []
        },
        {
            "metadata": {},
            "cell_type": "code",
            "source": "df3 = df2.reset_index()\n#df3.head()",
            "execution_count": 19,
            "outputs": []
        },
        {
            "metadata": {},
            "cell_type": "markdown",
            "source": "Now we can remove the duplicate boroughts as follows:"
        },
        {
            "metadata": {},
            "cell_type": "code",
            "source": "df3['Borough']= df3['Borough'].str.replace('nan|[{}\\s]','').str.split(',').apply(set).str.join(',').str.strip(',').str.replace(\",{2,}\",\",\")",
            "execution_count": 20,
            "outputs": []
        },
        {
            "metadata": {},
            "cell_type": "code",
            "source": "df3.head()",
            "execution_count": 21,
            "outputs": [
                {
                    "data": {
                        "text/html": "<div>\n<style scoped>\n    .dataframe tbody tr th:only-of-type {\n        vertical-align: middle;\n    }\n\n    .dataframe tbody tr th {\n        vertical-align: top;\n    }\n\n    .dataframe thead th {\n        text-align: right;\n    }\n</style>\n<table border=\"1\" class=\"dataframe\">\n  <thead>\n    <tr style=\"text-align: right;\">\n      <th></th>\n      <th>PostalCode</th>\n      <th>Borough</th>\n      <th>Neighbourhood</th>\n    </tr>\n  </thead>\n  <tbody>\n    <tr>\n      <th>0</th>\n      <td>M1B</td>\n      <td>Scarborough</td>\n      <td>Rouge,Malvern</td>\n    </tr>\n    <tr>\n      <th>1</th>\n      <td>M1C</td>\n      <td>Scarborough</td>\n      <td>Highland Creek,Rouge Hill,Port Union</td>\n    </tr>\n    <tr>\n      <th>2</th>\n      <td>M1E</td>\n      <td>Scarborough</td>\n      <td>Guildwood,Morningside,West Hill</td>\n    </tr>\n    <tr>\n      <th>3</th>\n      <td>M1G</td>\n      <td>Scarborough</td>\n      <td>Woburn</td>\n    </tr>\n    <tr>\n      <th>4</th>\n      <td>M1H</td>\n      <td>Scarborough</td>\n      <td>Cedarbrae</td>\n    </tr>\n  </tbody>\n</table>\n</div>",
                        "text/plain": "  PostalCode      Borough                         Neighbourhood\n0        M1B  Scarborough                         Rouge,Malvern\n1        M1C  Scarborough  Highland Creek,Rouge Hill,Port Union\n2        M1E  Scarborough       Guildwood,Morningside,West Hill\n3        M1G  Scarborough                                Woburn\n4        M1H  Scarborough                             Cedarbrae"
                    },
                    "execution_count": 21,
                    "metadata": {},
                    "output_type": "execute_result"
                }
            ]
        },
        {
            "metadata": {},
            "cell_type": "code",
            "source": "df3.info()",
            "execution_count": 22,
            "outputs": [
                {
                    "name": "stdout",
                    "output_type": "stream",
                    "text": "<class 'pandas.core.frame.DataFrame'>\nRangeIndex: 103 entries, 0 to 102\nData columns (total 3 columns):\nPostalCode       103 non-null object\nBorough          103 non-null object\nNeighbourhood    103 non-null object\ndtypes: object(3)\nmemory usage: 2.5+ KB\n"
                }
            ]
        },
        {
            "metadata": {},
            "cell_type": "code",
            "source": "df3.shape",
            "execution_count": 23,
            "outputs": [
                {
                    "data": {
                        "text/plain": "(103, 3)"
                    },
                    "execution_count": 23,
                    "metadata": {},
                    "output_type": "execute_result"
                }
            ]
        },
        {
            "metadata": {},
            "cell_type": "markdown",
            "source": "\n## 1.5. Q1_notebook on Github repository. (10 marks)"
        },
        {
            "metadata": {},
            "cell_type": "markdown",
            "source": "\n\n# Question 2: \n\n\n## 2.1. Used the Geocoder Package\n\n\n\n"
        },
        {
            "metadata": {},
            "cell_type": "code",
            "source": "pip install geopy",
            "execution_count": 24,
            "outputs": [
                {
                    "name": "stdout",
                    "output_type": "stream",
                    "text": "Requirement already satisfied: geopy in /home/jupyterlab/conda/lib/python3.6/site-packages (1.11.0)\nNote: you may need to restart the kernel to use updated packages.\n"
                }
            ]
        },
        {
            "metadata": {},
            "cell_type": "code",
            "source": "from  geopy.geocoders import Nominatim\ngeolocator = Nominatim()\ncity =\"London\"\ncountry =\"Uk\"\nloc = geolocator.geocode(city+','+ country)\nprint(\"latitude is :-\" ,loc.latitude,\"\\nlongtitude is:-\" ,loc.longitude)",
            "execution_count": 25,
            "outputs": [
                {
                    "name": "stdout",
                    "output_type": "stream",
                    "text": "latitude is :- 51.5073219 \nlongtitude is:- -0.1276474\n"
                }
            ]
        },
        {
            "metadata": {},
            "cell_type": "code",
            "source": "from  geopy.geocoders import Nominatim\ngeolocator = Nominatim()\nlocation = geolocator.geocode(\"Toronto, North York, Parkwoods\")\n\nprint(location.address)\nprint('')\nprint((location.latitude, location.longitude))\nprint('')\nprint(location.raw)\n",
            "execution_count": 26,
            "outputs": [
                {
                    "name": "stdout",
                    "output_type": "stream",
                    "text": "Parkwoods Village Drive, Parkway East, Don Valley East, North York, Toronto, Ontario, M3A 1Z5, Canada\n\n(43.7611243, -79.3240594)\n\n{'place_id': 112261812, 'licence': 'Data \u00a9 OpenStreetMap contributors, ODbL 1.0. https://osm.org/copyright', 'osm_type': 'way', 'osm_id': 160406962, 'boundingbox': ['43.761106', '43.7612191', '-79.3242996', '-79.3239088'], 'lat': '43.7611243', 'lon': '-79.3240594', 'display_name': 'Parkwoods Village Drive, Parkway East, Don Valley East, North York, Toronto, Ontario, M3A 1Z5, Canada', 'class': 'highway', 'type': 'secondary', 'importance': 0.51}\n"
                }
            ]
        },
        {
            "metadata": {},
            "cell_type": "code",
            "source": "import pandas as pd\n#df3.head()",
            "execution_count": 27,
            "outputs": []
        },
        {
            "metadata": {},
            "cell_type": "code",
            "source": "\nimport pandas as pd\ndf_geopy = pd.DataFrame({'PostalCode': ['M3A', 'M4A', 'M5A'],\n                         'Borough': ['North York', 'North York', 'Downtown Toronto'],\n                         'Neighbourhood': ['Parkwoods', 'Victoria Village', 'Harbourfront'],})\n\nfrom geopy.geocoders import Nominatim\ngeolocator = Nominatim()\n\n",
            "execution_count": 28,
            "outputs": []
        },
        {
            "metadata": {},
            "cell_type": "code",
            "source": "df_geopy1 = df3\n#df_geopy1",
            "execution_count": 29,
            "outputs": []
        },
        {
            "metadata": {},
            "cell_type": "code",
            "source": "from geopy.geocoders import Nominatim\ngeolocator = Nominatim()\n\ndf_geopy1['address'] = df3[['PostalCode', 'Borough', 'Neighbourhood']].apply(lambda x: ', '.join(x), axis=1 )\ndf_geopy1.head()",
            "execution_count": 30,
            "outputs": [
                {
                    "data": {
                        "text/html": "<div>\n<style scoped>\n    .dataframe tbody tr th:only-of-type {\n        vertical-align: middle;\n    }\n\n    .dataframe tbody tr th {\n        vertical-align: top;\n    }\n\n    .dataframe thead th {\n        text-align: right;\n    }\n</style>\n<table border=\"1\" class=\"dataframe\">\n  <thead>\n    <tr style=\"text-align: right;\">\n      <th></th>\n      <th>PostalCode</th>\n      <th>Borough</th>\n      <th>Neighbourhood</th>\n      <th>address</th>\n    </tr>\n  </thead>\n  <tbody>\n    <tr>\n      <th>0</th>\n      <td>M1B</td>\n      <td>Scarborough</td>\n      <td>Rouge,Malvern</td>\n      <td>M1B, Scarborough, Rouge,Malvern</td>\n    </tr>\n    <tr>\n      <th>1</th>\n      <td>M1C</td>\n      <td>Scarborough</td>\n      <td>Highland Creek,Rouge Hill,Port Union</td>\n      <td>M1C, Scarborough, Highland Creek,Rouge Hill,Po...</td>\n    </tr>\n    <tr>\n      <th>2</th>\n      <td>M1E</td>\n      <td>Scarborough</td>\n      <td>Guildwood,Morningside,West Hill</td>\n      <td>M1E, Scarborough, Guildwood,Morningside,West Hill</td>\n    </tr>\n    <tr>\n      <th>3</th>\n      <td>M1G</td>\n      <td>Scarborough</td>\n      <td>Woburn</td>\n      <td>M1G, Scarborough, Woburn</td>\n    </tr>\n    <tr>\n      <th>4</th>\n      <td>M1H</td>\n      <td>Scarborough</td>\n      <td>Cedarbrae</td>\n      <td>M1H, Scarborough, Cedarbrae</td>\n    </tr>\n  </tbody>\n</table>\n</div>",
                        "text/plain": "  PostalCode      Borough                         Neighbourhood  \\\n0        M1B  Scarborough                         Rouge,Malvern   \n1        M1C  Scarborough  Highland Creek,Rouge Hill,Port Union   \n2        M1E  Scarborough       Guildwood,Morningside,West Hill   \n3        M1G  Scarborough                                Woburn   \n4        M1H  Scarborough                             Cedarbrae   \n\n                                             address  \n0                    M1B, Scarborough, Rouge,Malvern  \n1  M1C, Scarborough, Highland Creek,Rouge Hill,Po...  \n2  M1E, Scarborough, Guildwood,Morningside,West Hill  \n3                           M1G, Scarborough, Woburn  \n4                        M1H, Scarborough, Cedarbrae  "
                    },
                    "execution_count": 30,
                    "metadata": {},
                    "output_type": "execute_result"
                }
            ]
        },
        {
            "metadata": {},
            "cell_type": "code",
            "source": "df_geopy1 = df3",
            "execution_count": 31,
            "outputs": []
        },
        {
            "metadata": {},
            "cell_type": "code",
            "source": "df_geopy1.shape\n",
            "execution_count": 32,
            "outputs": [
                {
                    "data": {
                        "text/plain": "(103, 4)"
                    },
                    "execution_count": 32,
                    "metadata": {},
                    "output_type": "execute_result"
                }
            ]
        },
        {
            "metadata": {},
            "cell_type": "code",
            "source": "df_geopy1.info()",
            "execution_count": 33,
            "outputs": [
                {
                    "name": "stdout",
                    "output_type": "stream",
                    "text": "<class 'pandas.core.frame.DataFrame'>\nRangeIndex: 103 entries, 0 to 102\nData columns (total 4 columns):\nPostalCode       103 non-null object\nBorough          103 non-null object\nNeighbourhood    103 non-null object\naddress          103 non-null object\ndtypes: object(4)\nmemory usage: 3.3+ KB\n"
                }
            ]
        },
        {
            "metadata": {},
            "cell_type": "code",
            "source": "df_geopy1.drop(df_geopy1[df_geopy1['Borough']==\"Notassigned\"].index,axis=0, inplace=True)\n#df_geopy1\n# code holds true up until i=102\ndf_geopy1.info()\n",
            "execution_count": 34,
            "outputs": [
                {
                    "name": "stdout",
                    "output_type": "stream",
                    "text": "<class 'pandas.core.frame.DataFrame'>\nInt64Index: 103 entries, 0 to 102\nData columns (total 4 columns):\nPostalCode       103 non-null object\nBorough          103 non-null object\nNeighbourhood    103 non-null object\naddress          103 non-null object\ndtypes: object(4)\nmemory usage: 4.0+ KB\n"
                }
            ]
        },
        {
            "metadata": {},
            "cell_type": "code",
            "source": "#df_geopy1.head()\n",
            "execution_count": 35,
            "outputs": []
        },
        {
            "metadata": {},
            "cell_type": "code",
            "source": "df_geopy1.shape\n",
            "execution_count": 36,
            "outputs": [
                {
                    "data": {
                        "text/plain": "(103, 4)"
                    },
                    "execution_count": 36,
                    "metadata": {},
                    "output_type": "execute_result"
                }
            ]
        },
        {
            "metadata": {},
            "cell_type": "code",
            "source": "df_geopy1.to_csv('geopy1.csv')\n# no data for location after row 75",
            "execution_count": 37,
            "outputs": []
        },
        {
            "metadata": {},
            "cell_type": "markdown",
            "source": "Now let's test for location = 'M1G, Scarborough, Woburn'"
        },
        {
            "metadata": {},
            "cell_type": "code",
            "source": "from  geopy.geocoders import Nominatim\ngeolocator = Nominatim()\nlocation = geolocator.geocode(\"M1G, Scarborough, Woburn\")\n\n\n#print(location.address)\n\n#print((location.latitude, location.longitude))\n\n#print(location.raw)\n",
            "execution_count": 38,
            "outputs": []
        },
        {
            "metadata": {},
            "cell_type": "code",
            "source": "pip install geocoder",
            "execution_count": 39,
            "outputs": [
                {
                    "name": "stdout",
                    "output_type": "stream",
                    "text": "Collecting geocoder\n\u001b[?25l  Downloading https://files.pythonhosted.org/packages/4f/6b/13166c909ad2f2d76b929a4227c952630ebaf0d729f6317eb09cbceccbab/geocoder-1.38.1-py2.py3-none-any.whl (98kB)\n\u001b[K    100% |\u2588\u2588\u2588\u2588\u2588\u2588\u2588\u2588\u2588\u2588\u2588\u2588\u2588\u2588\u2588\u2588\u2588\u2588\u2588\u2588\u2588\u2588\u2588\u2588\u2588\u2588\u2588\u2588\u2588\u2588\u2588\u2588| 102kB 17.7MB/s \n\u001b[?25hRequirement already satisfied: click in /home/jupyterlab/conda/lib/python3.6/site-packages (from geocoder) (7.0)\nRequirement already satisfied: requests in /home/jupyterlab/conda/lib/python3.6/site-packages (from geocoder) (2.21.0)\nCollecting ratelim (from geocoder)\n  Downloading https://files.pythonhosted.org/packages/f2/98/7e6d147fd16a10a5f821db6e25f192265d6ecca3d82957a4fdd592cad49c/ratelim-0.1.6-py2.py3-none-any.whl\nRequirement already satisfied: future in /home/jupyterlab/conda/lib/python3.6/site-packages (from geocoder) (0.17.1)\nRequirement already satisfied: six in /home/jupyterlab/conda/lib/python3.6/site-packages (from geocoder) (1.12.0)\nRequirement already satisfied: chardet<3.1.0,>=3.0.2 in /home/jupyterlab/conda/lib/python3.6/site-packages (from requests->geocoder) (3.0.4)\nRequirement already satisfied: certifi>=2017.4.17 in /home/jupyterlab/conda/lib/python3.6/site-packages (from requests->geocoder) (2019.3.9)\nRequirement already satisfied: urllib3<1.25,>=1.21.1 in /home/jupyterlab/conda/lib/python3.6/site-packages (from requests->geocoder) (1.24.1)\nRequirement already satisfied: idna<2.9,>=2.5 in /home/jupyterlab/conda/lib/python3.6/site-packages (from requests->geocoder) (2.8)\nRequirement already satisfied: decorator in /home/jupyterlab/conda/lib/python3.6/site-packages (from ratelim->geocoder) (4.4.0)\nInstalling collected packages: ratelim, geocoder\nSuccessfully installed geocoder-1.38.1 ratelim-0.1.6\nNote: you may need to restart the kernel to use updated packages.\n"
                }
            ]
        },
        {
            "metadata": {},
            "cell_type": "markdown",
            "source": "\n#### Bonus _ Used Geopy & OpenStreetMap to create Dataframe\n"
        },
        {
            "metadata": {},
            "cell_type": "code",
            "source": "df3.to_csv('geopy.csv')",
            "execution_count": 40,
            "outputs": []
        },
        {
            "metadata": {},
            "cell_type": "code",
            "source": "import csv\n\nwith open('geopy.csv') as csvfile:\n     reader = csv.DictReader(csvfile)\n     #for row in reader:\n         #print(row['PostalCode'],row['Borough'], row['Neighbourhood'] )",
            "execution_count": 41,
            "outputs": []
        },
        {
            "metadata": {},
            "cell_type": "code",
            "source": "from  geopy.geocoders import Nominatim\ngeolocator = Nominatim()\nlocation = geolocator.geocode(\"M1B Scarborough Rouge,Malvern\")\n\n#print(location.address)\n\n#print((location.latitude, location.longitude))\n\n#print(location.raw)\n",
            "execution_count": 42,
            "outputs": []
        },
        {
            "metadata": {},
            "cell_type": "code",
            "source": "from  geopy.geocoders import Nominatim\ngeolocator = Nominatim()\nlocation = geolocator.geocode(\"Toronto, Highland Creek\")\n\n#print(location.address)\n\n#print((location.latitude, location.longitude))\n\n#print(location.raw)\n\n#M1C Scarborough Highland Creek,Rouge Hill,Port Union = no address",
            "execution_count": 43,
            "outputs": []
        },
        {
            "metadata": {},
            "cell_type": "code",
            "source": "from  geopy.geocoders import Nominatim\ngeolocator = Nominatim()\nlocation = geolocator.geocode(\"Toronto, Morningside\")\n\n#print(location.address)\n\n#print((location.latitude, location.longitude))\n\n#print(location.raw)\n\n#M1E Scarborough Guildwood,Morningside,West Hill = no address\n",
            "execution_count": 44,
            "outputs": []
        },
        {
            "metadata": {},
            "cell_type": "markdown",
            "source": "##### Bonus how to create a csv file. "
        },
        {
            "metadata": {},
            "cell_type": "code",
            "source": "\nimport numpy as np\nimport csv\n\n\nPostalCode = None\nBorough = None\nNeighbourhood = None\nlatData = None\nlongData = None\n\nLAT_Woburn = 43.7598243\nLONG_Woburn = -79.2252908\nLAT_Malvern = 43.8091955\nLONG_Malvern = -79.2217008\nLAT_Highland_Creek = 43.7901172\nLONG_Highland_Creek = -79.1733344\nLAT_Morningside = 43.7826012\nLONG_Morningside = -79.2049579\n\n \nPostalCode = np.array(['M1H','M1B','M1C','M1G '])\nBorough = np.array(['Scarborough','Scarborough','Scarborough','Scarborough'])\nNeighbourhood = np.array(['Woburn','Malvern','Highland_Creek','Morningside'])\nlatData = np.array([43.7598243,43.8091955, 43.7901172 , 43.7826012])\nlongData = np.array([-79.2252908,-79.2217008,-79.1733344, -79.2049579 ])\n\nwith open('data.csv', 'w') as file:\n    writer = csv.writer(file, delimiter=',')\n    writer.writerow('ABXYZ')\n    for a,b,x,y,z in np.nditer([ PostalCode.T, Borough.T, Neighbourhood.T, latData.T, longData.T], order='C'):\n        writer.writerow([a,b,x,y,z])    ",
            "execution_count": 45,
            "outputs": []
        },
        {
            "metadata": {},
            "cell_type": "code",
            "source": "import csv\n\nwith open('data.csv') as csvfile:\n     reader = csv.DictReader(csvfile)\n     for row in reader:\n         print(row['A'], row['B'],row['X'], row['Y'], row['Z'])",
            "execution_count": 46,
            "outputs": [
                {
                    "name": "stdout",
                    "output_type": "stream",
                    "text": "M1H Scarborough Woburn 43.7598243 -79.2252908\nM1B Scarborough Malvern 43.8091955 -79.2217008\nM1C Scarborough Highland_Creek 43.7901172 -79.1733344\nM1G  Scarborough Morningside 43.7826012 -79.2049579\n"
                }
            ]
        },
        {
            "metadata": {},
            "cell_type": "code",
            "source": "pd.read_csv('data.csv') ",
            "execution_count": 47,
            "outputs": [
                {
                    "data": {
                        "text/html": "<div>\n<style scoped>\n    .dataframe tbody tr th:only-of-type {\n        vertical-align: middle;\n    }\n\n    .dataframe tbody tr th {\n        vertical-align: top;\n    }\n\n    .dataframe thead th {\n        text-align: right;\n    }\n</style>\n<table border=\"1\" class=\"dataframe\">\n  <thead>\n    <tr style=\"text-align: right;\">\n      <th></th>\n      <th>A</th>\n      <th>B</th>\n      <th>X</th>\n      <th>Y</th>\n      <th>Z</th>\n    </tr>\n  </thead>\n  <tbody>\n    <tr>\n      <th>0</th>\n      <td>M1H</td>\n      <td>Scarborough</td>\n      <td>Woburn</td>\n      <td>43.759824</td>\n      <td>-79.225291</td>\n    </tr>\n    <tr>\n      <th>1</th>\n      <td>M1B</td>\n      <td>Scarborough</td>\n      <td>Malvern</td>\n      <td>43.809196</td>\n      <td>-79.221701</td>\n    </tr>\n    <tr>\n      <th>2</th>\n      <td>M1C</td>\n      <td>Scarborough</td>\n      <td>Highland_Creek</td>\n      <td>43.790117</td>\n      <td>-79.173334</td>\n    </tr>\n    <tr>\n      <th>3</th>\n      <td>M1G</td>\n      <td>Scarborough</td>\n      <td>Morningside</td>\n      <td>43.782601</td>\n      <td>-79.204958</td>\n    </tr>\n  </tbody>\n</table>\n</div>",
                        "text/plain": "      A            B               X          Y          Z\n0   M1H  Scarborough          Woburn  43.759824 -79.225291\n1   M1B  Scarborough         Malvern  43.809196 -79.221701\n2   M1C  Scarborough  Highland_Creek  43.790117 -79.173334\n3  M1G   Scarborough     Morningside  43.782601 -79.204958"
                    },
                    "execution_count": 47,
                    "metadata": {},
                    "output_type": "execute_result"
                }
            ]
        },
        {
            "metadata": {},
            "cell_type": "markdown",
            "source": "### Retrieved coordinates with lambda equation "
        },
        {
            "metadata": {},
            "cell_type": "code",
            "source": "import pandas, os\n#os.listdir()",
            "execution_count": 48,
            "outputs": []
        },
        {
            "metadata": {},
            "cell_type": "code",
            "source": "df_geopy=df3\n#df_geopy.head()",
            "execution_count": 49,
            "outputs": []
        },
        {
            "metadata": {},
            "cell_type": "code",
            "source": "import geopy\n#dir(geopy)",
            "execution_count": 50,
            "outputs": []
        },
        {
            "metadata": {},
            "cell_type": "code",
            "source": "type(df_geopy)",
            "execution_count": 51,
            "outputs": [
                {
                    "data": {
                        "text/plain": "pandas.core.frame.DataFrame"
                    },
                    "execution_count": 51,
                    "metadata": {},
                    "output_type": "execute_result"
                }
            ]
        },
        {
            "metadata": {},
            "cell_type": "code",
            "source": "df_geopy.info()",
            "execution_count": 52,
            "outputs": [
                {
                    "name": "stdout",
                    "output_type": "stream",
                    "text": "<class 'pandas.core.frame.DataFrame'>\nInt64Index: 103 entries, 0 to 102\nData columns (total 4 columns):\nPostalCode       103 non-null object\nBorough          103 non-null object\nNeighbourhood    103 non-null object\naddress          103 non-null object\ndtypes: object(4)\nmemory usage: 4.0+ KB\n"
                }
            ]
        },
        {
            "metadata": {},
            "cell_type": "markdown",
            "source": "### Import GeoPy:"
        },
        {
            "metadata": {},
            "cell_type": "code",
            "source": "pip install geopy",
            "execution_count": 53,
            "outputs": [
                {
                    "name": "stdout",
                    "output_type": "stream",
                    "text": "Requirement already satisfied: geopy in /home/jupyterlab/conda/lib/python3.6/site-packages (1.11.0)\nNote: you may need to restart the kernel to use updated packages.\n"
                }
            ]
        },
        {
            "metadata": {},
            "cell_type": "code",
            "source": "from geopy.geocoders import Nominatim\nprint('Nominatim imported')",
            "execution_count": 54,
            "outputs": [
                {
                    "name": "stdout",
                    "output_type": "stream",
                    "text": "Nominatim imported\n"
                }
            ]
        },
        {
            "metadata": {},
            "cell_type": "markdown",
            "source": "### Set connection to OpenStreeMap "
        },
        {
            "metadata": {},
            "cell_type": "code",
            "source": "df_geopy['address']=df_geopy['PostalCode'] + ',' + df_geopy['Borough'] + ','+ df_geopy['Neighbourhood']\ndf_geopy.head()",
            "execution_count": 55,
            "outputs": [
                {
                    "data": {
                        "text/html": "<div>\n<style scoped>\n    .dataframe tbody tr th:only-of-type {\n        vertical-align: middle;\n    }\n\n    .dataframe tbody tr th {\n        vertical-align: top;\n    }\n\n    .dataframe thead th {\n        text-align: right;\n    }\n</style>\n<table border=\"1\" class=\"dataframe\">\n  <thead>\n    <tr style=\"text-align: right;\">\n      <th></th>\n      <th>PostalCode</th>\n      <th>Borough</th>\n      <th>Neighbourhood</th>\n      <th>address</th>\n    </tr>\n  </thead>\n  <tbody>\n    <tr>\n      <th>0</th>\n      <td>M1B</td>\n      <td>Scarborough</td>\n      <td>Rouge,Malvern</td>\n      <td>M1B,Scarborough,Rouge,Malvern</td>\n    </tr>\n    <tr>\n      <th>1</th>\n      <td>M1C</td>\n      <td>Scarborough</td>\n      <td>Highland Creek,Rouge Hill,Port Union</td>\n      <td>M1C,Scarborough,Highland Creek,Rouge Hill,Port...</td>\n    </tr>\n    <tr>\n      <th>2</th>\n      <td>M1E</td>\n      <td>Scarborough</td>\n      <td>Guildwood,Morningside,West Hill</td>\n      <td>M1E,Scarborough,Guildwood,Morningside,West Hill</td>\n    </tr>\n    <tr>\n      <th>3</th>\n      <td>M1G</td>\n      <td>Scarborough</td>\n      <td>Woburn</td>\n      <td>M1G,Scarborough,Woburn</td>\n    </tr>\n    <tr>\n      <th>4</th>\n      <td>M1H</td>\n      <td>Scarborough</td>\n      <td>Cedarbrae</td>\n      <td>M1H,Scarborough,Cedarbrae</td>\n    </tr>\n  </tbody>\n</table>\n</div>",
                        "text/plain": "  PostalCode      Borough                         Neighbourhood  \\\n0        M1B  Scarborough                         Rouge,Malvern   \n1        M1C  Scarborough  Highland Creek,Rouge Hill,Port Union   \n2        M1E  Scarborough       Guildwood,Morningside,West Hill   \n3        M1G  Scarborough                                Woburn   \n4        M1H  Scarborough                             Cedarbrae   \n\n                                             address  \n0                      M1B,Scarborough,Rouge,Malvern  \n1  M1C,Scarborough,Highland Creek,Rouge Hill,Port...  \n2    M1E,Scarborough,Guildwood,Morningside,West Hill  \n3                             M1G,Scarborough,Woburn  \n4                          M1H,Scarborough,Cedarbrae  "
                    },
                    "execution_count": 55,
                    "metadata": {},
                    "output_type": "execute_result"
                }
            ]
        },
        {
            "metadata": {},
            "cell_type": "code",
            "source": "nom = Nominatim()",
            "execution_count": 56,
            "outputs": []
        },
        {
            "metadata": {},
            "cell_type": "code",
            "source": "n=nom.geocode('M1B, Scarborough, Rouge,Malvern')\nn",
            "execution_count": 57,
            "outputs": [
                {
                    "data": {
                        "text/plain": "Location(Malvern, Scarborough\u2014Rouge Park, Scarborough, Toronto, Golden Horseshoe, Ontario, M1B 4Y7, Canada, (43.8091955, -79.2217008, 0.0))"
                    },
                    "execution_count": 57,
                    "metadata": {},
                    "output_type": "execute_result"
                }
            ]
        },
        {
            "metadata": {},
            "cell_type": "code",
            "source": "n.latitude",
            "execution_count": 58,
            "outputs": [
                {
                    "data": {
                        "text/plain": "43.8091955"
                    },
                    "execution_count": 58,
                    "metadata": {},
                    "output_type": "execute_result"
                }
            ]
        },
        {
            "metadata": {},
            "cell_type": "code",
            "source": "type(n)",
            "execution_count": 59,
            "outputs": [
                {
                    "data": {
                        "text/plain": "geopy.location.Location"
                    },
                    "execution_count": 59,
                    "metadata": {},
                    "output_type": "execute_result"
                }
            ]
        },
        {
            "metadata": {},
            "cell_type": "markdown",
            "source": "### Watch out for None values"
        },
        {
            "metadata": {},
            "cell_type": "code",
            "source": "n2=nom.geocode('M1E Scarborough Guildwood,Morningside,West Hill')\nprint(n2)",
            "execution_count": 60,
            "outputs": [
                {
                    "name": "stdout",
                    "output_type": "stream",
                    "text": "None\n"
                }
            ]
        },
        {
            "metadata": {},
            "cell_type": "code",
            "source": "df_geopy['Coordinates'] =df_geopy['address'].apply(nom.geocode)\ndf_geopy.head()\n\n",
            "execution_count": 64,
            "outputs": [
                {
                    "data": {
                        "text/html": "<div>\n<style scoped>\n    .dataframe tbody tr th:only-of-type {\n        vertical-align: middle;\n    }\n\n    .dataframe tbody tr th {\n        vertical-align: top;\n    }\n\n    .dataframe thead th {\n        text-align: right;\n    }\n</style>\n<table border=\"1\" class=\"dataframe\">\n  <thead>\n    <tr style=\"text-align: right;\">\n      <th></th>\n      <th>PostalCode</th>\n      <th>Borough</th>\n      <th>Neighbourhood</th>\n      <th>address</th>\n      <th>Coordinates</th>\n    </tr>\n  </thead>\n  <tbody>\n    <tr>\n      <th>0</th>\n      <td>M1B</td>\n      <td>Scarborough</td>\n      <td>Rouge,Malvern</td>\n      <td>M1B,Scarborough,Rouge,Malvern</td>\n      <td>(Malvern, Scarborough\u2014Rouge Park, Scarborough,...</td>\n    </tr>\n    <tr>\n      <th>1</th>\n      <td>M1C</td>\n      <td>Scarborough</td>\n      <td>Highland Creek,Rouge Hill,Port Union</td>\n      <td>M1C,Scarborough,Highland Creek,Rouge Hill,Port...</td>\n      <td>None</td>\n    </tr>\n    <tr>\n      <th>2</th>\n      <td>M1E</td>\n      <td>Scarborough</td>\n      <td>Guildwood,Morningside,West Hill</td>\n      <td>M1E,Scarborough,Guildwood,Morningside,West Hill</td>\n      <td>None</td>\n    </tr>\n    <tr>\n      <th>3</th>\n      <td>M1G</td>\n      <td>Scarborough</td>\n      <td>Woburn</td>\n      <td>M1G,Scarborough,Woburn</td>\n      <td>(Woburn, Scarborough\u2014Guildwood, Scarborough, T...</td>\n    </tr>\n    <tr>\n      <th>4</th>\n      <td>M1H</td>\n      <td>Scarborough</td>\n      <td>Cedarbrae</td>\n      <td>M1H,Scarborough,Cedarbrae</td>\n      <td>None</td>\n    </tr>\n  </tbody>\n</table>\n</div>",
                        "text/plain": "  PostalCode      Borough                         Neighbourhood  \\\n0        M1B  Scarborough                         Rouge,Malvern   \n1        M1C  Scarborough  Highland Creek,Rouge Hill,Port Union   \n2        M1E  Scarborough       Guildwood,Morningside,West Hill   \n3        M1G  Scarborough                                Woburn   \n4        M1H  Scarborough                             Cedarbrae   \n\n                                             address  \\\n0                      M1B,Scarborough,Rouge,Malvern   \n1  M1C,Scarborough,Highland Creek,Rouge Hill,Port...   \n2    M1E,Scarborough,Guildwood,Morningside,West Hill   \n3                             M1G,Scarborough,Woburn   \n4                          M1H,Scarborough,Cedarbrae   \n\n                                         Coordinates  \n0  (Malvern, Scarborough\u2014Rouge Park, Scarborough,...  \n1                                               None  \n2                                               None  \n3  (Woburn, Scarborough\u2014Guildwood, Scarborough, T...  \n4                                               None  "
                    },
                    "execution_count": 64,
                    "metadata": {},
                    "output_type": "execute_result"
                }
            ]
        },
        {
            "metadata": {},
            "cell_type": "markdown",
            "source": "#### location objects created at 'Coordinates'\n"
        },
        {
            "metadata": {},
            "cell_type": "code",
            "source": "df_geopy.info()",
            "execution_count": 65,
            "outputs": [
                {
                    "name": "stdout",
                    "output_type": "stream",
                    "text": "<class 'pandas.core.frame.DataFrame'>\nInt64Index: 103 entries, 0 to 102\nData columns (total 5 columns):\nPostalCode       103 non-null object\nBorough          103 non-null object\nNeighbourhood    103 non-null object\naddress          103 non-null object\nCoordinates      5 non-null object\ndtypes: object(5)\nmemory usage: 4.8+ KB\n"
                }
            ]
        },
        {
            "metadata": {},
            "cell_type": "code",
            "source": "df_geopy.Coordinates[0]",
            "execution_count": 66,
            "outputs": [
                {
                    "data": {
                        "text/plain": "Location(Malvern, Scarborough\u2014Rouge Park, Scarborough, Toronto, Golden Horseshoe, Ontario, M1B 4Y7, Canada, (43.8091955, -79.2217008, 0.0))"
                    },
                    "execution_count": 66,
                    "metadata": {},
                    "output_type": "execute_result"
                }
            ]
        },
        {
            "metadata": {},
            "cell_type": "code",
            "source": "print(df_geopy.Coordinates[1])",
            "execution_count": 67,
            "outputs": [
                {
                    "name": "stdout",
                    "output_type": "stream",
                    "text": "None\n"
                }
            ]
        },
        {
            "metadata": {},
            "cell_type": "code",
            "source": "df_geopy['latitude']=df_geopy['Coordinates'].apply(lambda x: x.latitude if x !=None else None)\ndf_geopy['longitude']=df_geopy['Coordinates'].apply(lambda x: x.longitude if x !=None else None)\ndf_geopy.head()",
            "execution_count": 68,
            "outputs": [
                {
                    "data": {
                        "text/html": "<div>\n<style scoped>\n    .dataframe tbody tr th:only-of-type {\n        vertical-align: middle;\n    }\n\n    .dataframe tbody tr th {\n        vertical-align: top;\n    }\n\n    .dataframe thead th {\n        text-align: right;\n    }\n</style>\n<table border=\"1\" class=\"dataframe\">\n  <thead>\n    <tr style=\"text-align: right;\">\n      <th></th>\n      <th>PostalCode</th>\n      <th>Borough</th>\n      <th>Neighbourhood</th>\n      <th>address</th>\n      <th>Coordinates</th>\n      <th>latitude</th>\n      <th>longitude</th>\n    </tr>\n  </thead>\n  <tbody>\n    <tr>\n      <th>0</th>\n      <td>M1B</td>\n      <td>Scarborough</td>\n      <td>Rouge,Malvern</td>\n      <td>M1B,Scarborough,Rouge,Malvern</td>\n      <td>(Malvern, Scarborough\u2014Rouge Park, Scarborough,...</td>\n      <td>43.809196</td>\n      <td>-79.221701</td>\n    </tr>\n    <tr>\n      <th>1</th>\n      <td>M1C</td>\n      <td>Scarborough</td>\n      <td>Highland Creek,Rouge Hill,Port Union</td>\n      <td>M1C,Scarborough,Highland Creek,Rouge Hill,Port...</td>\n      <td>None</td>\n      <td>NaN</td>\n      <td>NaN</td>\n    </tr>\n    <tr>\n      <th>2</th>\n      <td>M1E</td>\n      <td>Scarborough</td>\n      <td>Guildwood,Morningside,West Hill</td>\n      <td>M1E,Scarborough,Guildwood,Morningside,West Hill</td>\n      <td>None</td>\n      <td>NaN</td>\n      <td>NaN</td>\n    </tr>\n    <tr>\n      <th>3</th>\n      <td>M1G</td>\n      <td>Scarborough</td>\n      <td>Woburn</td>\n      <td>M1G,Scarborough,Woburn</td>\n      <td>(Woburn, Scarborough\u2014Guildwood, Scarborough, T...</td>\n      <td>43.759824</td>\n      <td>-79.225291</td>\n    </tr>\n    <tr>\n      <th>4</th>\n      <td>M1H</td>\n      <td>Scarborough</td>\n      <td>Cedarbrae</td>\n      <td>M1H,Scarborough,Cedarbrae</td>\n      <td>None</td>\n      <td>NaN</td>\n      <td>NaN</td>\n    </tr>\n  </tbody>\n</table>\n</div>",
                        "text/plain": "  PostalCode      Borough                         Neighbourhood  \\\n0        M1B  Scarborough                         Rouge,Malvern   \n1        M1C  Scarborough  Highland Creek,Rouge Hill,Port Union   \n2        M1E  Scarborough       Guildwood,Morningside,West Hill   \n3        M1G  Scarborough                                Woburn   \n4        M1H  Scarborough                             Cedarbrae   \n\n                                             address  \\\n0                      M1B,Scarborough,Rouge,Malvern   \n1  M1C,Scarborough,Highland Creek,Rouge Hill,Port...   \n2    M1E,Scarborough,Guildwood,Morningside,West Hill   \n3                             M1G,Scarborough,Woburn   \n4                          M1H,Scarborough,Cedarbrae   \n\n                                         Coordinates   latitude  longitude  \n0  (Malvern, Scarborough\u2014Rouge Park, Scarborough,...  43.809196 -79.221701  \n1                                               None        NaN        NaN  \n2                                               None        NaN        NaN  \n3  (Woburn, Scarborough\u2014Guildwood, Scarborough, T...  43.759824 -79.225291  \n4                                               None        NaN        NaN  "
                    },
                    "execution_count": 68,
                    "metadata": {},
                    "output_type": "execute_result"
                }
            ]
        },
        {
            "metadata": {},
            "cell_type": "code",
            "source": "df_geopy.to_csv('geo_loc_py.csv')",
            "execution_count": 69,
            "outputs": []
        },
        {
            "metadata": {},
            "cell_type": "markdown",
            "source": "#### As just 5 addresses were fruitful, we will go on to use the given geo-location data."
        },
        {
            "metadata": {},
            "cell_type": "code",
            "source": "print('The latitude of', df_geopy.address[0],  'is', df_geopy.latitude[0], 'and its longitude is',df_geopy.longitude[0])",
            "execution_count": 70,
            "outputs": [
                {
                    "name": "stdout",
                    "output_type": "stream",
                    "text": "The latitude of M1B,Scarborough,Rouge,Malvern is 43.8091955 and its longitude is -79.2217008\n"
                }
            ]
        },
        {
            "metadata": {},
            "cell_type": "markdown",
            "source": "\n## 2.2. Used the csv file to create the requested dataframe\n\n"
        },
        {
            "metadata": {},
            "cell_type": "code",
            "source": "# Load the Pandas libraries with alias 'pd' \nimport pandas as pd \n# Read data from file 'filename.csv' \n# (in the same directory that your python process is based)\n# Control delimiters, rows, column names with read_csv (see later) \ndata2 = pd.read_csv(\"geopy.csv\") \n# Preview the first 5 lines of the loaded data \ndata2.head()",
            "execution_count": 71,
            "outputs": [
                {
                    "data": {
                        "text/html": "<div>\n<style scoped>\n    .dataframe tbody tr th:only-of-type {\n        vertical-align: middle;\n    }\n\n    .dataframe tbody tr th {\n        vertical-align: top;\n    }\n\n    .dataframe thead th {\n        text-align: right;\n    }\n</style>\n<table border=\"1\" class=\"dataframe\">\n  <thead>\n    <tr style=\"text-align: right;\">\n      <th></th>\n      <th>Unnamed: 0</th>\n      <th>PostalCode</th>\n      <th>Borough</th>\n      <th>Neighbourhood</th>\n      <th>address</th>\n    </tr>\n  </thead>\n  <tbody>\n    <tr>\n      <th>0</th>\n      <td>0</td>\n      <td>M1B</td>\n      <td>Scarborough</td>\n      <td>Rouge,Malvern</td>\n      <td>M1B, Scarborough, Rouge,Malvern</td>\n    </tr>\n    <tr>\n      <th>1</th>\n      <td>1</td>\n      <td>M1C</td>\n      <td>Scarborough</td>\n      <td>Highland Creek,Rouge Hill,Port Union</td>\n      <td>M1C, Scarborough, Highland Creek,Rouge Hill,Po...</td>\n    </tr>\n    <tr>\n      <th>2</th>\n      <td>2</td>\n      <td>M1E</td>\n      <td>Scarborough</td>\n      <td>Guildwood,Morningside,West Hill</td>\n      <td>M1E, Scarborough, Guildwood,Morningside,West Hill</td>\n    </tr>\n    <tr>\n      <th>3</th>\n      <td>3</td>\n      <td>M1G</td>\n      <td>Scarborough</td>\n      <td>Woburn</td>\n      <td>M1G, Scarborough, Woburn</td>\n    </tr>\n    <tr>\n      <th>4</th>\n      <td>4</td>\n      <td>M1H</td>\n      <td>Scarborough</td>\n      <td>Cedarbrae</td>\n      <td>M1H, Scarborough, Cedarbrae</td>\n    </tr>\n  </tbody>\n</table>\n</div>",
                        "text/plain": "   Unnamed: 0 PostalCode      Borough                         Neighbourhood  \\\n0           0        M1B  Scarborough                         Rouge,Malvern   \n1           1        M1C  Scarborough  Highland Creek,Rouge Hill,Port Union   \n2           2        M1E  Scarborough       Guildwood,Morningside,West Hill   \n3           3        M1G  Scarborough                                Woburn   \n4           4        M1H  Scarborough                             Cedarbrae   \n\n                                             address  \n0                    M1B, Scarborough, Rouge,Malvern  \n1  M1C, Scarborough, Highland Creek,Rouge Hill,Po...  \n2  M1E, Scarborough, Guildwood,Morningside,West Hill  \n3                           M1G, Scarborough, Woburn  \n4                        M1H, Scarborough, Cedarbrae  "
                    },
                    "execution_count": 71,
                    "metadata": {},
                    "output_type": "execute_result"
                }
            ]
        },
        {
            "metadata": {},
            "cell_type": "code",
            "source": "data3 = pd.read_csv(\"Geospatial_Coordinates.csv\") \n# Preview the first 5 lines of the loaded data \ndata3.head()",
            "execution_count": 72,
            "outputs": [
                {
                    "data": {
                        "text/html": "<div>\n<style scoped>\n    .dataframe tbody tr th:only-of-type {\n        vertical-align: middle;\n    }\n\n    .dataframe tbody tr th {\n        vertical-align: top;\n    }\n\n    .dataframe thead th {\n        text-align: right;\n    }\n</style>\n<table border=\"1\" class=\"dataframe\">\n  <thead>\n    <tr style=\"text-align: right;\">\n      <th></th>\n      <th>Postal Code</th>\n      <th>Latitude</th>\n      <th>Longitude</th>\n    </tr>\n  </thead>\n  <tbody>\n    <tr>\n      <th>0</th>\n      <td>M1B</td>\n      <td>43.806686</td>\n      <td>-79.194353</td>\n    </tr>\n    <tr>\n      <th>1</th>\n      <td>M1C</td>\n      <td>43.784535</td>\n      <td>-79.160497</td>\n    </tr>\n    <tr>\n      <th>2</th>\n      <td>M1E</td>\n      <td>43.763573</td>\n      <td>-79.188711</td>\n    </tr>\n    <tr>\n      <th>3</th>\n      <td>M1G</td>\n      <td>43.770992</td>\n      <td>-79.216917</td>\n    </tr>\n    <tr>\n      <th>4</th>\n      <td>M1H</td>\n      <td>43.773136</td>\n      <td>-79.239476</td>\n    </tr>\n  </tbody>\n</table>\n</div>",
                        "text/plain": "  Postal Code   Latitude  Longitude\n0         M1B  43.806686 -79.194353\n1         M1C  43.784535 -79.160497\n2         M1E  43.763573 -79.188711\n3         M1G  43.770992 -79.216917\n4         M1H  43.773136 -79.239476"
                    },
                    "execution_count": 72,
                    "metadata": {},
                    "output_type": "execute_result"
                }
            ]
        },
        {
            "metadata": {},
            "cell_type": "markdown",
            "source": "- Rename 'Postal Code'"
        },
        {
            "metadata": {},
            "cell_type": "code",
            "source": "data3.rename(columns={'Postal Code': 'PostalCode'}, inplace=True)\n#data3.head()",
            "execution_count": 73,
            "outputs": []
        },
        {
            "metadata": {},
            "cell_type": "code",
            "source": "data1 = pd.merge(data3, data2, how='inner', on=None, left_on=None, right_on=None,\n         left_index=False, right_index=False, sort=True,\n         suffixes=('_x', '_y'), copy=True, indicator=False,\n         validate=None)\n\ndata1.head()",
            "execution_count": 74,
            "outputs": [
                {
                    "data": {
                        "text/html": "<div>\n<style scoped>\n    .dataframe tbody tr th:only-of-type {\n        vertical-align: middle;\n    }\n\n    .dataframe tbody tr th {\n        vertical-align: top;\n    }\n\n    .dataframe thead th {\n        text-align: right;\n    }\n</style>\n<table border=\"1\" class=\"dataframe\">\n  <thead>\n    <tr style=\"text-align: right;\">\n      <th></th>\n      <th>PostalCode</th>\n      <th>Latitude</th>\n      <th>Longitude</th>\n      <th>Unnamed: 0</th>\n      <th>Borough</th>\n      <th>Neighbourhood</th>\n      <th>address</th>\n    </tr>\n  </thead>\n  <tbody>\n    <tr>\n      <th>0</th>\n      <td>M1B</td>\n      <td>43.806686</td>\n      <td>-79.194353</td>\n      <td>0</td>\n      <td>Scarborough</td>\n      <td>Rouge,Malvern</td>\n      <td>M1B, Scarborough, Rouge,Malvern</td>\n    </tr>\n    <tr>\n      <th>1</th>\n      <td>M1C</td>\n      <td>43.784535</td>\n      <td>-79.160497</td>\n      <td>1</td>\n      <td>Scarborough</td>\n      <td>Highland Creek,Rouge Hill,Port Union</td>\n      <td>M1C, Scarborough, Highland Creek,Rouge Hill,Po...</td>\n    </tr>\n    <tr>\n      <th>2</th>\n      <td>M1E</td>\n      <td>43.763573</td>\n      <td>-79.188711</td>\n      <td>2</td>\n      <td>Scarborough</td>\n      <td>Guildwood,Morningside,West Hill</td>\n      <td>M1E, Scarborough, Guildwood,Morningside,West Hill</td>\n    </tr>\n    <tr>\n      <th>3</th>\n      <td>M1G</td>\n      <td>43.770992</td>\n      <td>-79.216917</td>\n      <td>3</td>\n      <td>Scarborough</td>\n      <td>Woburn</td>\n      <td>M1G, Scarborough, Woburn</td>\n    </tr>\n    <tr>\n      <th>4</th>\n      <td>M1H</td>\n      <td>43.773136</td>\n      <td>-79.239476</td>\n      <td>4</td>\n      <td>Scarborough</td>\n      <td>Cedarbrae</td>\n      <td>M1H, Scarborough, Cedarbrae</td>\n    </tr>\n  </tbody>\n</table>\n</div>",
                        "text/plain": "  PostalCode   Latitude  Longitude  Unnamed: 0      Borough  \\\n0        M1B  43.806686 -79.194353           0  Scarborough   \n1        M1C  43.784535 -79.160497           1  Scarborough   \n2        M1E  43.763573 -79.188711           2  Scarborough   \n3        M1G  43.770992 -79.216917           3  Scarborough   \n4        M1H  43.773136 -79.239476           4  Scarborough   \n\n                          Neighbourhood  \\\n0                         Rouge,Malvern   \n1  Highland Creek,Rouge Hill,Port Union   \n2       Guildwood,Morningside,West Hill   \n3                                Woburn   \n4                             Cedarbrae   \n\n                                             address  \n0                    M1B, Scarborough, Rouge,Malvern  \n1  M1C, Scarborough, Highland Creek,Rouge Hill,Po...  \n2  M1E, Scarborough, Guildwood,Morningside,West Hill  \n3                           M1G, Scarborough, Woburn  \n4                        M1H, Scarborough, Cedarbrae  "
                    },
                    "execution_count": 74,
                    "metadata": {},
                    "output_type": "execute_result"
                }
            ]
        },
        {
            "metadata": {},
            "cell_type": "code",
            "source": "data1.info()",
            "execution_count": 75,
            "outputs": [
                {
                    "name": "stdout",
                    "output_type": "stream",
                    "text": "<class 'pandas.core.frame.DataFrame'>\nInt64Index: 103 entries, 0 to 102\nData columns (total 7 columns):\nPostalCode       103 non-null object\nLatitude         103 non-null float64\nLongitude        103 non-null float64\nUnnamed: 0       103 non-null int64\nBorough          103 non-null object\nNeighbourhood    103 non-null object\naddress          103 non-null object\ndtypes: float64(2), int64(1), object(4)\nmemory usage: 6.4+ KB\n"
                }
            ]
        },
        {
            "metadata": {},
            "cell_type": "markdown",
            "source": "- Rearrange columns and drop foreign key:"
        },
        {
            "metadata": {},
            "cell_type": "code",
            "source": "cols = data1.columns.tolist()\ncols",
            "execution_count": 76,
            "outputs": [
                {
                    "data": {
                        "text/plain": "['PostalCode',\n 'Latitude',\n 'Longitude',\n 'Unnamed: 0',\n 'Borough',\n 'Neighbourhood',\n 'address']"
                    },
                    "execution_count": 76,
                    "metadata": {},
                    "output_type": "execute_result"
                }
            ]
        },
        {
            "metadata": {},
            "cell_type": "code",
            "source": "new_column_order = ['PostalCode',\n 'Borough',\n 'Neighbourhood',\n 'Latitude',\n 'Longitude']\nnew_column_order",
            "execution_count": 77,
            "outputs": [
                {
                    "data": {
                        "text/plain": "['PostalCode', 'Borough', 'Neighbourhood', 'Latitude', 'Longitude']"
                    },
                    "execution_count": 77,
                    "metadata": {},
                    "output_type": "execute_result"
                }
            ]
        },
        {
            "metadata": {},
            "cell_type": "code",
            "source": "data1 = data1[new_column_order]\n#data1.head()",
            "execution_count": 78,
            "outputs": []
        },
        {
            "metadata": {},
            "cell_type": "markdown",
            "source": "- Sort dataframe to match example:"
        },
        {
            "metadata": {},
            "cell_type": "code",
            "source": "sorted_df = data1.sort_values([ 'Neighbourhood', 'Latitude'], ascending=[True, True])\n#sorted_df.head()\n# no idea how to get it exacly like the exqample :(",
            "execution_count": 79,
            "outputs": []
        },
        {
            "metadata": {},
            "cell_type": "code",
            "source": "sorted_df.reset_index(inplace=True)\n#sorted_df.head()\n",
            "execution_count": 80,
            "outputs": []
        },
        {
            "metadata": {},
            "cell_type": "code",
            "source": "sorted_cols =sorted_df.columns.tolist()\n#sorted_cols",
            "execution_count": 81,
            "outputs": []
        },
        {
            "metadata": {},
            "cell_type": "code",
            "source": "new_column_order2 = ['PostalCode',\n 'Borough',\n 'Neighbourhood',\n 'Latitude',\n 'Longitude']\nnew_column_order2",
            "execution_count": 82,
            "outputs": [
                {
                    "data": {
                        "text/plain": "['PostalCode', 'Borough', 'Neighbourhood', 'Latitude', 'Longitude']"
                    },
                    "execution_count": 82,
                    "metadata": {},
                    "output_type": "execute_result"
                }
            ]
        },
        {
            "metadata": {},
            "cell_type": "code",
            "source": "sorted_dataframe = sorted_df[new_column_order]\nsorted_dataframe.head()",
            "execution_count": 83,
            "outputs": [
                {
                    "data": {
                        "text/html": "<div>\n<style scoped>\n    .dataframe tbody tr th:only-of-type {\n        vertical-align: middle;\n    }\n\n    .dataframe tbody tr th {\n        vertical-align: top;\n    }\n\n    .dataframe thead th {\n        text-align: right;\n    }\n</style>\n<table border=\"1\" class=\"dataframe\">\n  <thead>\n    <tr style=\"text-align: right;\">\n      <th></th>\n      <th>PostalCode</th>\n      <th>Borough</th>\n      <th>Neighbourhood</th>\n      <th>Latitude</th>\n      <th>Longitude</th>\n    </tr>\n  </thead>\n  <tbody>\n    <tr>\n      <th>0</th>\n      <td>M5H</td>\n      <td>DowntownToronto</td>\n      <td>Adelaide,King,Richmond</td>\n      <td>43.650571</td>\n      <td>-79.384568</td>\n    </tr>\n    <tr>\n      <th>1</th>\n      <td>M1S</td>\n      <td>Scarborough</td>\n      <td>Agincourt</td>\n      <td>43.794200</td>\n      <td>-79.262029</td>\n    </tr>\n    <tr>\n      <th>2</th>\n      <td>M1V</td>\n      <td>Scarborough</td>\n      <td>Agincourt North,L'Amoreaux East,Milliken,Steel...</td>\n      <td>43.815252</td>\n      <td>-79.284577</td>\n    </tr>\n    <tr>\n      <th>3</th>\n      <td>M9V</td>\n      <td>Etobicoke</td>\n      <td>Albion Gardens,Beaumond Heights,Humbergate,Jam...</td>\n      <td>43.739416</td>\n      <td>-79.588437</td>\n    </tr>\n    <tr>\n      <th>4</th>\n      <td>M8W</td>\n      <td>Etobicoke</td>\n      <td>Alderwood,Long Branch</td>\n      <td>43.602414</td>\n      <td>-79.543484</td>\n    </tr>\n  </tbody>\n</table>\n</div>",
                        "text/plain": "  PostalCode          Borough  \\\n0        M5H  DowntownToronto   \n1        M1S      Scarborough   \n2        M1V      Scarborough   \n3        M9V        Etobicoke   \n4        M8W        Etobicoke   \n\n                                       Neighbourhood   Latitude  Longitude  \n0                             Adelaide,King,Richmond  43.650571 -79.384568  \n1                                          Agincourt  43.794200 -79.262029  \n2  Agincourt North,L'Amoreaux East,Milliken,Steel...  43.815252 -79.284577  \n3  Albion Gardens,Beaumond Heights,Humbergate,Jam...  43.739416 -79.588437  \n4                              Alderwood,Long Branch  43.602414 -79.543484  "
                    },
                    "execution_count": 83,
                    "metadata": {},
                    "output_type": "execute_result"
                }
            ]
        },
        {
            "metadata": {},
            "cell_type": "markdown",
            "source": "\n## 2.3. Q2_ notebook on Github repository. (2 marks)\n"
        },
        {
            "metadata": {},
            "cell_type": "code",
            "source": "sorted_dataframe.to_csv('sorted_geoloc.csv')",
            "execution_count": 84,
            "outputs": []
        },
        {
            "metadata": {},
            "cell_type": "markdown",
            "source": "\n# Question 3: \n\n\n## 3.1. Build a test set with boroughs in Toronto\n\n\n\n"
        },
        {
            "metadata": {},
            "cell_type": "markdown",
            "source": "Import dependencies that we will need."
        },
        {
            "metadata": {},
            "cell_type": "code",
            "source": "import numpy as np # library to handle data in a vectorized manner\n\nimport pandas as pd # library for data analsysis\npd.set_option('display.max_columns', None)\npd.set_option('display.max_rows', None)\n\nimport json # library to handle JSON files\n\n#!conda install -c conda-forge geopy --yes # uncomment this line if you haven't completed the Foursquare API lab\nfrom geopy.geocoders import Nominatim # convert an address into latitude and longitude values\n\nimport requests # library to handle requests\nfrom pandas.io.json import json_normalize # tranform JSON file into a pandas dataframe\n\n# Matplotlib and associated plotting modules\nimport matplotlib.cm as cm\nimport matplotlib.colors as colors\n\n# import k-means from clustering stage\nfrom sklearn.cluster import KMeans\n\n#!conda install -c conda-forge folium=0.5.0 --yes # uncomment this line if you haven't completed the Foursquare API lab\nimport folium # map rendering library\n\nprint('Libraries imported.')",
            "execution_count": 85,
            "outputs": [
                {
                    "name": "stdout",
                    "output_type": "stream",
                    "text": "Libraries imported.\n"
                }
            ]
        },
        {
            "metadata": {},
            "cell_type": "markdown",
            "source": "##### bonus_loading data into json:"
        },
        {
            "metadata": {},
            "cell_type": "code",
            "source": "# library to handle JSON files\n\nimport pandas as pd\n\nimport json\n\nsorted_dataframe.to_json(path_or_buf='geo_toronto.json', orient='table')\n",
            "execution_count": 86,
            "outputs": []
        },
        {
            "metadata": {},
            "cell_type": "code",
            "source": "with open('geo_toronto.json') as json_data:\n    Toronto_data = json.load(json_data)",
            "execution_count": 87,
            "outputs": []
        },
        {
            "metadata": {},
            "cell_type": "code",
            "source": "#Toronto_data\n# Data is in the 'data' field   ",
            "execution_count": 88,
            "outputs": []
        },
        {
            "metadata": {},
            "cell_type": "code",
            "source": "neighborhoods_data = Toronto_data['data']\nneighborhoods_data[0]\n#Let's take a look at the first item in this list.",
            "execution_count": 89,
            "outputs": [
                {
                    "data": {
                        "text/plain": "{'index': 0,\n 'PostalCode': 'M5H',\n 'Borough': 'DowntownToronto',\n 'Neighbourhood': 'Adelaide,King,Richmond',\n 'Latitude': 43.6505712,\n 'Longitude': -79.3845675}"
                    },
                    "execution_count": 89,
                    "metadata": {},
                    "output_type": "execute_result"
                }
            ]
        },
        {
            "metadata": {},
            "cell_type": "code",
            "source": "\nsorted_dataframe.info()\nsorted_dataframe.shape\n",
            "execution_count": 90,
            "outputs": [
                {
                    "name": "stdout",
                    "output_type": "stream",
                    "text": "<class 'pandas.core.frame.DataFrame'>\nRangeIndex: 103 entries, 0 to 102\nData columns (total 5 columns):\nPostalCode       103 non-null object\nBorough          103 non-null object\nNeighbourhood    103 non-null object\nLatitude         103 non-null float64\nLongitude        103 non-null float64\ndtypes: float64(2), object(3)\nmemory usage: 4.1+ KB\n"
                },
                {
                    "data": {
                        "text/plain": "(103, 5)"
                    },
                    "execution_count": 90,
                    "metadata": {},
                    "output_type": "execute_result"
                }
            ]
        },
        {
            "metadata": {},
            "cell_type": "code",
            "source": "sorted_dataframe.head()",
            "execution_count": 91,
            "outputs": [
                {
                    "data": {
                        "text/html": "<div>\n<style scoped>\n    .dataframe tbody tr th:only-of-type {\n        vertical-align: middle;\n    }\n\n    .dataframe tbody tr th {\n        vertical-align: top;\n    }\n\n    .dataframe thead th {\n        text-align: right;\n    }\n</style>\n<table border=\"1\" class=\"dataframe\">\n  <thead>\n    <tr style=\"text-align: right;\">\n      <th></th>\n      <th>PostalCode</th>\n      <th>Borough</th>\n      <th>Neighbourhood</th>\n      <th>Latitude</th>\n      <th>Longitude</th>\n    </tr>\n  </thead>\n  <tbody>\n    <tr>\n      <th>0</th>\n      <td>M5H</td>\n      <td>DowntownToronto</td>\n      <td>Adelaide,King,Richmond</td>\n      <td>43.650571</td>\n      <td>-79.384568</td>\n    </tr>\n    <tr>\n      <th>1</th>\n      <td>M1S</td>\n      <td>Scarborough</td>\n      <td>Agincourt</td>\n      <td>43.794200</td>\n      <td>-79.262029</td>\n    </tr>\n    <tr>\n      <th>2</th>\n      <td>M1V</td>\n      <td>Scarborough</td>\n      <td>Agincourt North,L'Amoreaux East,Milliken,Steel...</td>\n      <td>43.815252</td>\n      <td>-79.284577</td>\n    </tr>\n    <tr>\n      <th>3</th>\n      <td>M9V</td>\n      <td>Etobicoke</td>\n      <td>Albion Gardens,Beaumond Heights,Humbergate,Jam...</td>\n      <td>43.739416</td>\n      <td>-79.588437</td>\n    </tr>\n    <tr>\n      <th>4</th>\n      <td>M8W</td>\n      <td>Etobicoke</td>\n      <td>Alderwood,Long Branch</td>\n      <td>43.602414</td>\n      <td>-79.543484</td>\n    </tr>\n  </tbody>\n</table>\n</div>",
                        "text/plain": "  PostalCode          Borough  \\\n0        M5H  DowntownToronto   \n1        M1S      Scarborough   \n2        M1V      Scarborough   \n3        M9V        Etobicoke   \n4        M8W        Etobicoke   \n\n                                       Neighbourhood   Latitude  Longitude  \n0                             Adelaide,King,Richmond  43.650571 -79.384568  \n1                                          Agincourt  43.794200 -79.262029  \n2  Agincourt North,L'Amoreaux East,Milliken,Steel...  43.815252 -79.284577  \n3  Albion Gardens,Beaumond Heights,Humbergate,Jam...  43.739416 -79.588437  \n4                              Alderwood,Long Branch  43.602414 -79.543484  "
                    },
                    "execution_count": 91,
                    "metadata": {},
                    "output_type": "execute_result"
                }
            ]
        },
        {
            "metadata": {},
            "cell_type": "code",
            "source": "print('The dataframe has {} boroughs and {} neighborhoods.'.format(\n        len(sorted_dataframe['Borough'].unique()),\n        sorted_dataframe.shape[0]\n    )\n)",
            "execution_count": 92,
            "outputs": [
                {
                    "name": "stdout",
                    "output_type": "stream",
                    "text": "The dataframe has 11 boroughs and 103 neighborhoods.\n"
                }
            ]
        },
        {
            "metadata": {},
            "cell_type": "markdown",
            "source": "#### How to get coordonates:"
        },
        {
            "metadata": {},
            "cell_type": "code",
            "source": "address = 'Adelaide'\n\ngeolocator = Nominatim()\nlocation = geolocator.geocode(address)\nlatitude = location.latitude\nlongitude = location.longitude\nprint('The geograpical coordinate of Adelaide are {}, {}.'.format(latitude, longitude))",
            "execution_count": 93,
            "outputs": [
                {
                    "name": "stdout",
                    "output_type": "stream",
                    "text": "The geograpical coordinate of Adelaide are -34.9281805, 138.5999312.\n"
                }
            ]
        },
        {
            "metadata": {},
            "cell_type": "markdown",
            "source": "#### How to map with Folium:"
        },
        {
            "metadata": {},
            "cell_type": "code",
            "source": "!conda install -c conda-forge folium=0.5.0 \n",
            "execution_count": 94,
            "outputs": [
                {
                    "name": "stdout",
                    "output_type": "stream",
                    "text": "Collecting package metadata: done\nSolving environment: - \nThe environment is inconsistent, please check the package plan carefully\nThe following packages are causing the inconsistency:\n\n  - defaults/linux-64::anaconda==5.3.1=py37_0\n  - defaults/linux-64::astropy==3.0.4=py37h14c3975_0\n  - defaults/linux-64::bkcharts==0.2=py37_0\n  - defaults/linux-64::blaze==0.11.3=py37_0\n  - defaults/linux-64::bokeh==0.13.0=py37_0\n  - defaults/linux-64::bottleneck==1.2.1=py37h035aef0_1\n  - defaults/linux-64::dask==0.19.1=py37_0\n  - defaults/linux-64::datashape==0.5.4=py37_1\n  - defaults/linux-64::mkl-service==1.1.2=py37h90e4bf4_5\n  - defaults/linux-64::numba==0.39.0=py37h04863e7_0\n  - defaults/linux-64::numexpr==2.6.8=py37hd89afb7_0\n  - defaults/linux-64::odo==0.5.1=py37_0\n  - defaults/linux-64::pytables==3.4.4=py37ha205bf6_0\n  - defaults/linux-64::pytest-arraydiff==0.2=py37h39e3cac_0\n  - defaults/linux-64::pytest-astropy==0.4.0=py37_0\n  - defaults/linux-64::pytest-doctestplus==0.1.3=py37_0\n  - defaults/linux-64::pywavelets==1.0.0=py37hdd07704_0\n  - defaults/linux-64::scikit-image==0.14.0=py37hf484d3e_1\ndone\n\n# All requested packages already installed.\n\n"
                }
            ]
        },
        {
            "metadata": {},
            "cell_type": "markdown",
            "source": "## Ready to generate maps, open them on your browser!\n\n- if you cannot generate the maps open PGA_map_*.html from the zip file\n\n"
        },
        {
            "metadata": {},
            "cell_type": "code",
            "source": "import pandas as pd\nimport folium\n\nprint('imported pandas & folium')",
            "execution_count": 95,
            "outputs": [
                {
                    "name": "stdout",
                    "output_type": "stream",
                    "text": "imported pandas & folium\n"
                }
            ]
        },
        {
            "metadata": {},
            "cell_type": "markdown",
            "source": "### Map generated with folium default markers:"
        },
        {
            "metadata": {},
            "cell_type": "code",
            "source": "import pandas as pd\nimport folium\n\n#grab a random sample from df\nsubset_of_df = sorted_dataframe.sample(n=11)\nmap_test = folium.Map(location=[subset_of_df['Latitude'].mean(), \n                                subset_of_df['Longitude'].mean()], \n                      zoom_start=10)\n#creating a Marker for each point in df_sample. Each point will get a popup with their zip\nfor row in subset_of_df.itertuples():if you cannot \n    map_test.add_child(folium.Marker(location=[row.Latitude ,row.Longitude],\n           popup=row.Borough))\n\n    \n#map_test\n\n#open map_test.html in browser\nmap_test.save(\"map_test.html\")\n\n# if you cannot generate the maps open PGA_map_*.html from the zip file\n",
            "execution_count": 96,
            "outputs": []
        },
        {
            "metadata": {},
            "cell_type": "markdown",
            "source": "### Test on Borough data, map with MarkerClusters:"
        },
        {
            "metadata": {},
            "cell_type": "code",
            "source": "from folium.plugins import MarkerCluster\nmap_borough = folium.Map(location=[subset_of_df['Latitude'].mean(), \n subset_of_df['Longitude'].mean()], \n zoom_start=10)\nmc = MarkerCluster()\n#creating a Marker for each point in df_sample. Each point will get a popup with their zip\nfor row in subset_of_df.itertuples():\n    mc.add_child(folium.Marker(location=[row.Latitude,  row.Longitude],\n                 popup=row.Borough))\n    map_borough.add_child(mc)\n\n\n#map_borough\n\n#open in map_borough.html browser \nmap_borough.save(\"map_borough.html\")\n\n#if you cannot generate the maps open PGA_map_*.html from the zip file\n",
            "execution_count": 97,
            "outputs": []
        },
        {
            "metadata": {},
            "cell_type": "markdown",
            "source": "\n## 3.2. Replicate the same analysis with the neighborhoods in Toronto. \n\n"
        },
        {
            "metadata": {},
            "cell_type": "code",
            "source": "import pandas as pd\nimport folium\n\n\n\n#grab a random sample from df\ntoronto_n = sorted_dataframe.sample(n=20)\nmap_toronto = folium.Map(location=[toronto_n['Latitude'].mean(), \n                                toronto_n['Longitude'].mean()], \n                      zoom_start=10)\n#creating a Marker for each point in df_sample. Each point will get a popup with their zip\nfor row in toronto_n.itertuples():\n    map_toronto.add_child(folium.Marker(location=[row.Latitude ,row.Longitude],\n           popup=row.Neighbourhood))\n\n    \nmap_toronto \n\n#open map_toronto.html in browser\n\nmap_toronto.save(\"map_toronto20.html\")\n\n#if you cannot generate the maps open PGA_map_*.html from the zip file\n",
            "execution_count": 98,
            "outputs": []
        },
        {
            "metadata": {},
            "cell_type": "markdown",
            "source": "great got 20 neighbourhoods...could not get more :("
        },
        {
            "metadata": {},
            "cell_type": "markdown",
            "source": "\n## 3.3 Used the Foursquare API to explore neighborhoods in Toronto.\n"
        },
        {
            "metadata": {},
            "cell_type": "markdown",
            "source": "-let's check the dataframe..."
        },
        {
            "metadata": {},
            "cell_type": "code",
            "source": "sorted_dataframe.head()",
            "execution_count": 104,
            "outputs": [
                {
                    "data": {
                        "text/html": "<div>\n<style scoped>\n    .dataframe tbody tr th:only-of-type {\n        vertical-align: middle;\n    }\n\n    .dataframe tbody tr th {\n        vertical-align: top;\n    }\n\n    .dataframe thead th {\n        text-align: right;\n    }\n</style>\n<table border=\"1\" class=\"dataframe\">\n  <thead>\n    <tr style=\"text-align: right;\">\n      <th></th>\n      <th>PostalCode</th>\n      <th>Borough</th>\n      <th>Neighbourhood</th>\n      <th>Latitude</th>\n      <th>Longitude</th>\n    </tr>\n  </thead>\n  <tbody>\n    <tr>\n      <th>0</th>\n      <td>M5H</td>\n      <td>DowntownToronto</td>\n      <td>Adelaide,King,Richmond</td>\n      <td>43.650571</td>\n      <td>-79.384568</td>\n    </tr>\n    <tr>\n      <th>1</th>\n      <td>M1S</td>\n      <td>Scarborough</td>\n      <td>Agincourt</td>\n      <td>43.794200</td>\n      <td>-79.262029</td>\n    </tr>\n    <tr>\n      <th>2</th>\n      <td>M1V</td>\n      <td>Scarborough</td>\n      <td>Agincourt North,L'Amoreaux East,Milliken,Steel...</td>\n      <td>43.815252</td>\n      <td>-79.284577</td>\n    </tr>\n    <tr>\n      <th>3</th>\n      <td>M9V</td>\n      <td>Etobicoke</td>\n      <td>Albion Gardens,Beaumond Heights,Humbergate,Jam...</td>\n      <td>43.739416</td>\n      <td>-79.588437</td>\n    </tr>\n    <tr>\n      <th>4</th>\n      <td>M8W</td>\n      <td>Etobicoke</td>\n      <td>Alderwood,Long Branch</td>\n      <td>43.602414</td>\n      <td>-79.543484</td>\n    </tr>\n  </tbody>\n</table>\n</div>",
                        "text/plain": "  PostalCode          Borough  \\\n0        M5H  DowntownToronto   \n1        M1S      Scarborough   \n2        M1V      Scarborough   \n3        M9V        Etobicoke   \n4        M8W        Etobicoke   \n\n                                       Neighbourhood   Latitude  Longitude  \n0                             Adelaide,King,Richmond  43.650571 -79.384568  \n1                                          Agincourt  43.794200 -79.262029  \n2  Agincourt North,L'Amoreaux East,Milliken,Steel...  43.815252 -79.284577  \n3  Albion Gardens,Beaumond Heights,Humbergate,Jam...  43.739416 -79.588437  \n4                              Alderwood,Long Branch  43.602414 -79.543484  "
                    },
                    "execution_count": 104,
                    "metadata": {},
                    "output_type": "execute_result"
                }
            ]
        },
        {
            "metadata": {},
            "cell_type": "code",
            "source": "sorted_dataframe.info()",
            "execution_count": 110,
            "outputs": [
                {
                    "name": "stdout",
                    "output_type": "stream",
                    "text": "<class 'pandas.core.frame.DataFrame'>\nRangeIndex: 103 entries, 0 to 102\nData columns (total 5 columns):\nPostalCode       103 non-null object\nBorough          103 non-null object\nNeighbourhood    103 non-null object\nLatitude         103 non-null float64\nLongitude        103 non-null float64\ndtypes: float64(2), object(3)\nmemory usage: 4.1+ KB\n"
                }
            ]
        },
        {
            "metadata": {},
            "cell_type": "code",
            "source": "print('The dataframe has {} boroughs and {} neighborhoods.'.format(\n        len(sorted_dataframe['Borough'].unique()),\n        sorted_dataframe.shape[0]\n    )\n)",
            "execution_count": 105,
            "outputs": [
                {
                    "name": "stdout",
                    "output_type": "stream",
                    "text": "The dataframe has 11 boroughs and 103 neighborhoods.\n"
                }
            ]
        },
        {
            "metadata": {},
            "cell_type": "markdown",
            "source": "Use geopy library to get the latitude and longitude values of Toronto.\n\n-In order to define an instance of the geocoder, leave out user_agent."
        },
        {
            "metadata": {},
            "cell_type": "code",
            "source": "address = 'Toronto, CA'\n\ngeolocator = Nominatim()\nlocation = geolocator.geocode(address)\nlatitude = location.latitude\nlongitude = location.longitude\nprint('The geograpical coordinate of Toronto are {}, {}.'.format(latitude, longitude))",
            "execution_count": 108,
            "outputs": [
                {
                    "name": "stdout",
                    "output_type": "stream",
                    "text": "The geograpical coordinate of Toronto are 43.653963, -79.387207.\n"
                }
            ]
        },
        {
            "metadata": {},
            "cell_type": "markdown",
            "source": "## Create a map of Toronto\n\n- with its neighborhoods superimposed on top.\n\n- if you cannot replicate the lab open PGA_map_*.html from the zip file"
        },
        {
            "metadata": {},
            "cell_type": "code",
            "source": "# create map of Toronto using latitude and longitude values\nmap_toronto_neighbourhoods = folium.Map(location=[latitude, longitude], zoom_start=10)\n\n# add markers to map\nfor lat, lng, borough, neighbourhood in zip(sorted_dataframe['Latitude'], sorted_dataframe['Longitude'], sorted_dataframe['Borough'], sorted_dataframe['Neighbourhood']):\n    label = '{}, {}'.format(neighbourhood, borough)\n    label = folium.Popup(label, parse_html=True)\n    folium.CircleMarker(\n        [lat, lng],\n        radius=2,\n        popup=label,\n        color='blue',\n        fill=True,\n        fill_color='#3186cc',\n        fill_opacity=0.7,\n        parse_html=False).add_to(map_toronto_neighbourhoods)  \n    \nmap_toronto_neighbourhoods\n\nmap_toronto_neighbourhoods.save(\"map_toronto_neighbourhoods.html\")\n\n#open map_toronto_neighbourhoods.html in browser\n#if you cannot generate the maps open PGA_map_*.html from the zip file\n",
            "execution_count": 114,
            "outputs": []
        },
        {
            "metadata": {},
            "cell_type": "markdown",
            "source": "\nTo kick off, let's focus on just one borough_...'York' for example:"
        },
        {
            "metadata": {},
            "cell_type": "code",
            "source": "address = 'York, Toronto'\n\ngeolocator = Nominatim()\nlocation = geolocator.geocode(address)\nlatitude = location.latitude\nlongitude = location.longitude\nprint('The geograpical coordinates of York, Toronto are {}, {}.'.format(latitude, longitude))",
            "execution_count": 115,
            "outputs": [
                {
                    "name": "stdout",
                    "output_type": "stream",
                    "text": "The geograpical coordinates of York, Toronto are 43.6896191, -79.479188.\n"
                }
            ]
        },
        {
            "metadata": {},
            "cell_type": "markdown",
            "source": "Lets repeat as above, but for York, Toronto only:"
        },
        {
            "metadata": {},
            "cell_type": "code",
            "source": "york_data = sorted_dataframe[sorted_dataframe['Borough'] == 'York'].reset_index(drop=True)\nyork_data",
            "execution_count": 119,
            "outputs": [
                {
                    "data": {
                        "text/html": "<div>\n<style scoped>\n    .dataframe tbody tr th:only-of-type {\n        vertical-align: middle;\n    }\n\n    .dataframe tbody tr th {\n        vertical-align: top;\n    }\n\n    .dataframe thead th {\n        text-align: right;\n    }\n</style>\n<table border=\"1\" class=\"dataframe\">\n  <thead>\n    <tr style=\"text-align: right;\">\n      <th></th>\n      <th>PostalCode</th>\n      <th>Borough</th>\n      <th>Neighbourhood</th>\n      <th>Latitude</th>\n      <th>Longitude</th>\n    </tr>\n  </thead>\n  <tbody>\n    <tr>\n      <th>0</th>\n      <td>M6E</td>\n      <td>York</td>\n      <td>Caledonia-Fairbanks</td>\n      <td>43.689026</td>\n      <td>-79.453512</td>\n    </tr>\n    <tr>\n      <th>1</th>\n      <td>M6M</td>\n      <td>York</td>\n      <td>Del Ray,Keelesdale,Mount Dennis,Silverthorn</td>\n      <td>43.691116</td>\n      <td>-79.476013</td>\n    </tr>\n    <tr>\n      <th>2</th>\n      <td>M6C</td>\n      <td>York</td>\n      <td>Humewood-Cedarvale</td>\n      <td>43.693781</td>\n      <td>-79.428191</td>\n    </tr>\n    <tr>\n      <th>3</th>\n      <td>M6N</td>\n      <td>York</td>\n      <td>The Junction North,Runnymede</td>\n      <td>43.673185</td>\n      <td>-79.487262</td>\n    </tr>\n    <tr>\n      <th>4</th>\n      <td>M9N</td>\n      <td>York</td>\n      <td>Weston</td>\n      <td>43.706876</td>\n      <td>-79.518188</td>\n    </tr>\n  </tbody>\n</table>\n</div>",
                        "text/plain": "  PostalCode Borough                                Neighbourhood   Latitude  \\\n0        M6E    York                          Caledonia-Fairbanks  43.689026   \n1        M6M    York  Del Ray,Keelesdale,Mount Dennis,Silverthorn  43.691116   \n2        M6C    York                           Humewood-Cedarvale  43.693781   \n3        M6N    York                 The Junction North,Runnymede  43.673185   \n4        M9N    York                                       Weston  43.706876   \n\n   Longitude  \n0 -79.453512  \n1 -79.476013  \n2 -79.428191  \n3 -79.487262  \n4 -79.518188  "
                    },
                    "execution_count": 119,
                    "metadata": {},
                    "output_type": "execute_result"
                }
            ]
        },
        {
            "metadata": {},
            "cell_type": "code",
            "source": "york_data.info()",
            "execution_count": 118,
            "outputs": [
                {
                    "name": "stdout",
                    "output_type": "stream",
                    "text": "<class 'pandas.core.frame.DataFrame'>\nRangeIndex: 5 entries, 0 to 4\nData columns (total 5 columns):\nPostalCode       5 non-null object\nBorough          5 non-null object\nNeighbourhood    5 non-null object\nLatitude         5 non-null float64\nLongitude        5 non-null float64\ndtypes: float64(2), object(3)\nmemory usage: 280.0+ bytes\n"
                }
            ]
        },
        {
            "metadata": {},
            "cell_type": "code",
            "source": "# create map of Manhattan using latitude and longitude values\nmap_york_toronto = folium.Map(location=[latitude, longitude], zoom_start=11)\n\n# add markers to map\nfor lat, lng, label in zip(york_data['Latitude'], york_data['Longitude'], york_data['Neighbourhood']):\n    label = folium.Popup(label, parse_html=True)\n    folium.CircleMarker(\n        [lat, lng],\n        radius=5,\n        popup=label,\n        color='blue',\n        fill=True,\n        fill_color='#3186cc',\n        fill_opacity=0.7,\n        parse_html=False).add_to(map_york_toronto)  \n    \nmap_york_toronto\n\nmap_york_toronto.save(\"map_york_toronto.html\")\n\n#open map_york_toronto.html in browser\n#if you cannot generate the maps open PGA_map_*.html from the zip file\n",
            "execution_count": 120,
            "outputs": []
        },
        {
            "metadata": {},
            "cell_type": "markdown",
            "source": "### Foursquare:"
        },
        {
            "metadata": {},
            "cell_type": "markdown",
            "source": "### @hidden_cell \n\n-https://dataplatform.cloud.ibm.com/docs/content/wsj/analyze-data/hide_code.html"
        },
        {
            "metadata": {},
            "cell_type": "markdown",
            "source": "### Enter your Foursquare credentials:\n\n- CLIENT_ID = 'cif' # your Foursquare ID\n\n- CLIENT_SECRET = 'csf' # your Foursquare Secret\n\n- VERSION = 'ymd' # Foursquare API version\n\n- print('My credentails: ***')\n- print('CLIENT_ID: ' + CLIENT_ID)\n- print('CLIENT_SECRET:' + CLIENT_SECRET)\n\n"
        },
        {
            "metadata": {},
            "cell_type": "code",
            "source": "# The code was removed by Watson Studio for sharing.",
            "execution_count": 140,
            "outputs": [
                {
                    "name": "stdout",
                    "output_type": "stream",
                    "text": "My credentails: ***\n"
                }
            ]
        },
        {
            "metadata": {},
            "cell_type": "markdown",
            "source": "### Let's explore the first neighborhood in our dataframe.\n\n- Get the neighborhood's name."
        },
        {
            "metadata": {},
            "cell_type": "code",
            "source": "york_data.info()",
            "execution_count": 144,
            "outputs": [
                {
                    "name": "stdout",
                    "output_type": "stream",
                    "text": "<class 'pandas.core.frame.DataFrame'>\nRangeIndex: 5 entries, 0 to 4\nData columns (total 5 columns):\nPostalCode       5 non-null object\nBorough          5 non-null object\nNeighbourhood    5 non-null object\nLatitude         5 non-null float64\nLongitude        5 non-null float64\ndtypes: float64(2), object(3)\nmemory usage: 280.0+ bytes\n"
                }
            ]
        },
        {
            "metadata": {},
            "cell_type": "code",
            "source": "neighbourhood_latitude = york_data.loc[0, 'Latitude'] # neighborhood latitude value\nneighbourhood_longitude = york_data.loc[0, 'Longitude'] # neighborhood longitude value\n\nneighbourhood_name = york_data.loc[0, 'Neighbourhood'] # neighborhood name\n\nprint('Latitude and longitude values of {} are {}, {}.'.format(neighbourhood_name, \n                                                               neighbourhood_latitude, \n                                                               neighbourhood_longitude))",
            "execution_count": 145,
            "outputs": [
                {
                    "name": "stdout",
                    "output_type": "stream",
                    "text": "Latitude and longitude values of Caledonia-Fairbanks are 43.6890256, -79.453512.\n"
                }
            ]
        },
        {
            "metadata": {},
            "cell_type": "markdown",
            "source": "### Now, let's get the top 100 venues that are in Caledonia-Fairbanks within a radius of 500 meters.\n\n- First, let's create the GET request URL. Name your URL url."
        },
        {
            "metadata": {},
            "cell_type": "code",
            "source": "# The code was removed by Watson Studio for sharing.",
            "execution_count": 149,
            "outputs": []
        },
        {
            "metadata": {},
            "cell_type": "markdown",
            "source": "### your code should look like this:\n\n\nLIMIT = 100\n\nradius = 500 \n\nurl = 'https://api.foursquare.com/v2/venues/explore?&client_id={}&client_secret={}&v={}&ll={},{}&radius={}&limit={}'.format(\n\n    CLIENT_ID, \n\n    CLIENT_SECRET, \n    \n    VERSION, \n    \n    neighbourhood_latitude, \n    \n    neighbourhood_longitude, \n    \n    radius, \n    \n    LIMIT)\n    \nurl    "
        },
        {
            "metadata": {},
            "cell_type": "code",
            "source": "york_results = requests.get(url).json()\n#york_results",
            "execution_count": 154,
            "outputs": []
        },
        {
            "metadata": {},
            "cell_type": "markdown",
            "source": "## 3.4. Get the most common venue categories in each neighborhood \n\n- use get_category_type function from the Foursquare lab"
        },
        {
            "metadata": {
                "collapsed": true
            },
            "cell_type": "code",
            "source": "# function that extracts the category of the venue\ndef get_category_type(row):\n    try:\n        categories_list = row['categories']\n    except:\n        categories_list = row['venue.categories']\n        \n    if len(categories_list) == 0:\n        return None\n    else:\n        return categories_list[0]['name']",
            "execution_count": 153,
            "outputs": []
        },
        {
            "metadata": {},
            "cell_type": "code",
            "source": "york_venues = york_results['response']['groups'][0]['items']\n    \nyork_nearby_venues = json_normalize(york_venues) # flatten JSON\n\n# filter columns\nyork_filtered_columns = ['venue.name', 'venue.categories', 'venue.location.lat', 'venue.location.lng']\nyork_nearby_venues = york_nearby_venues.loc[:, york_filtered_columns]\n\n# filter the category for each row\nyork_nearby_venues['venue.categories'] = york_nearby_venues.apply(get_category_type, axis=1)\n\n# clean columns\nyork_nearby_venues.columns = [col.split(\".\")[-1] for col in york_nearby_venues.columns]\n\nyork_nearby_venues.head()",
            "execution_count": 158,
            "outputs": [
                {
                    "data": {
                        "text/html": "<div>\n<style scoped>\n    .dataframe tbody tr th:only-of-type {\n        vertical-align: middle;\n    }\n\n    .dataframe tbody tr th {\n        vertical-align: top;\n    }\n\n    .dataframe thead th {\n        text-align: right;\n    }\n</style>\n<table border=\"1\" class=\"dataframe\">\n  <thead>\n    <tr style=\"text-align: right;\">\n      <th></th>\n      <th>name</th>\n      <th>categories</th>\n      <th>lat</th>\n      <th>lng</th>\n    </tr>\n  </thead>\n  <tbody>\n    <tr>\n      <th>0</th>\n      <td>Shoppers Drug Mart</td>\n      <td>Pharmacy</td>\n      <td>43.690651</td>\n      <td>-79.456310</td>\n    </tr>\n    <tr>\n      <th>1</th>\n      <td>KFC</td>\n      <td>Fast Food Restaurant</td>\n      <td>43.690647</td>\n      <td>-79.456326</td>\n    </tr>\n    <tr>\n      <th>2</th>\n      <td>Nairn Park</td>\n      <td>Park</td>\n      <td>43.690654</td>\n      <td>-79.456300</td>\n    </tr>\n    <tr>\n      <th>3</th>\n      <td>Maximum Woman</td>\n      <td>Women's Store</td>\n      <td>43.690651</td>\n      <td>-79.456333</td>\n    </tr>\n    <tr>\n      <th>4</th>\n      <td>Walmart</td>\n      <td>Market</td>\n      <td>43.690660</td>\n      <td>-79.456317</td>\n    </tr>\n  </tbody>\n</table>\n</div>",
                        "text/plain": "                 name            categories        lat        lng\n0  Shoppers Drug Mart              Pharmacy  43.690651 -79.456310\n1                 KFC  Fast Food Restaurant  43.690647 -79.456326\n2          Nairn Park                  Park  43.690654 -79.456300\n3       Maximum Woman         Women's Store  43.690651 -79.456333\n4             Walmart                Market  43.690660 -79.456317"
                    },
                    "execution_count": 158,
                    "metadata": {},
                    "output_type": "execute_result"
                }
            ]
        },
        {
            "metadata": {},
            "cell_type": "code",
            "source": "york_nearby_venues.info()",
            "execution_count": 159,
            "outputs": [
                {
                    "name": "stdout",
                    "output_type": "stream",
                    "text": "<class 'pandas.core.frame.DataFrame'>\nRangeIndex: 6 entries, 0 to 5\nData columns (total 4 columns):\nname          6 non-null object\ncategories    6 non-null object\nlat           6 non-null float64\nlng           6 non-null float64\ndtypes: float64(2), object(2)\nmemory usage: 272.0+ bytes\n"
                }
            ]
        },
        {
            "metadata": {},
            "cell_type": "code",
            "source": "print('{} venues were returned by Foursquare.'.format(york_nearby_venues.shape[0]))",
            "execution_count": 160,
            "outputs": [
                {
                    "name": "stdout",
                    "output_type": "stream",
                    "text": "6 venues were returned by Foursquare.\n"
                }
            ]
        },
        {
            "metadata": {},
            "cell_type": "markdown",
            "source": "## Explore Neighborhoods in York:\n\n- Let's create a function to repeat the same process to all the neighborhoods in York"
        },
        {
            "metadata": {
                "collapsed": true
            },
            "cell_type": "code",
            "source": "def getNearbyVenues(names, latitudes, longitudes, radius=500):\n    \n    venues_list=[]\n    for name, lat, lng in zip(names, latitudes, longitudes):\n        print(name)\n            \n        # create the API request URL\n        url = 'https://api.foursquare.com/v2/venues/explore?&client_id={}&client_secret={}&v={}&ll={},{}&radius={}&limit={}'.format(\n            CLIENT_ID, \n            CLIENT_SECRET, \n            VERSION, \n            lat, \n            lng, \n            radius, \n            LIMIT)\n            \n        # make the GET request\n        results = requests.get(url).json()[\"response\"]['groups'][0]['items']\n        \n        # return only relevant information for each nearby venue\n        venues_list.append([(\n            name, \n            lat, \n            lng, \n            v['venue']['name'], \n            v['venue']['location']['lat'], \n            v['venue']['location']['lng'],  \n            v['venue']['categories'][0]['name']) for v in results])\n\n    nearby_venues = pd.DataFrame([item for venue_list in venues_list for item in venue_list])\n    nearby_venues.columns = ['Neighbourhood', \n                  'Neighbourhood Latitude', \n                  'Neighbourhood Longitude', \n                  'Venue', \n                  'Venue Latitude', \n                  'Venue Longitude', \n                  'Venue Category']\n    \n    return(nearby_venues)",
            "execution_count": 170,
            "outputs": []
        },
        {
            "metadata": {
                "scrolled": true
            },
            "cell_type": "code",
            "source": "\nyork_venues = getNearbyVenues(names=york_data['Neighbourhood'],\n                                   latitudes=york_data['Latitude'],\n                                   longitudes=york_data['Longitude']\n                                  )\n\n",
            "execution_count": 171,
            "outputs": [
                {
                    "name": "stdout",
                    "output_type": "stream",
                    "text": "Caledonia-Fairbanks\nDel Ray,Keelesdale,Mount Dennis,Silverthorn\nHumewood-Cedarvale\nThe Junction North,Runnymede\nWeston\n"
                }
            ]
        },
        {
            "metadata": {},
            "cell_type": "code",
            "source": "york_venues.head()",
            "execution_count": 172,
            "outputs": [
                {
                    "data": {
                        "text/html": "<div>\n<style scoped>\n    .dataframe tbody tr th:only-of-type {\n        vertical-align: middle;\n    }\n\n    .dataframe tbody tr th {\n        vertical-align: top;\n    }\n\n    .dataframe thead th {\n        text-align: right;\n    }\n</style>\n<table border=\"1\" class=\"dataframe\">\n  <thead>\n    <tr style=\"text-align: right;\">\n      <th></th>\n      <th>Neighbourhood</th>\n      <th>Neighbourhood Latitude</th>\n      <th>Neighbourhood Longitude</th>\n      <th>Venue</th>\n      <th>Venue Latitude</th>\n      <th>Venue Longitude</th>\n      <th>Venue Category</th>\n    </tr>\n  </thead>\n  <tbody>\n    <tr>\n      <th>0</th>\n      <td>Caledonia-Fairbanks</td>\n      <td>43.689026</td>\n      <td>-79.453512</td>\n      <td>Shoppers Drug Mart</td>\n      <td>43.690651</td>\n      <td>-79.456310</td>\n      <td>Pharmacy</td>\n    </tr>\n    <tr>\n      <th>1</th>\n      <td>Caledonia-Fairbanks</td>\n      <td>43.689026</td>\n      <td>-79.453512</td>\n      <td>KFC</td>\n      <td>43.690647</td>\n      <td>-79.456326</td>\n      <td>Fast Food Restaurant</td>\n    </tr>\n    <tr>\n      <th>2</th>\n      <td>Caledonia-Fairbanks</td>\n      <td>43.689026</td>\n      <td>-79.453512</td>\n      <td>Nairn Park</td>\n      <td>43.690654</td>\n      <td>-79.456300</td>\n      <td>Park</td>\n    </tr>\n    <tr>\n      <th>3</th>\n      <td>Caledonia-Fairbanks</td>\n      <td>43.689026</td>\n      <td>-79.453512</td>\n      <td>Maximum Woman</td>\n      <td>43.690651</td>\n      <td>-79.456333</td>\n      <td>Women's Store</td>\n    </tr>\n    <tr>\n      <th>4</th>\n      <td>Caledonia-Fairbanks</td>\n      <td>43.689026</td>\n      <td>-79.453512</td>\n      <td>Walmart</td>\n      <td>43.690660</td>\n      <td>-79.456317</td>\n      <td>Market</td>\n    </tr>\n  </tbody>\n</table>\n</div>",
                        "text/plain": "         Neighbourhood  Neighbourhood Latitude  Neighbourhood Longitude  \\\n0  Caledonia-Fairbanks               43.689026               -79.453512   \n1  Caledonia-Fairbanks               43.689026               -79.453512   \n2  Caledonia-Fairbanks               43.689026               -79.453512   \n3  Caledonia-Fairbanks               43.689026               -79.453512   \n4  Caledonia-Fairbanks               43.689026               -79.453512   \n\n                Venue  Venue Latitude  Venue Longitude        Venue Category  \n0  Shoppers Drug Mart       43.690651       -79.456310              Pharmacy  \n1                 KFC       43.690647       -79.456326  Fast Food Restaurant  \n2          Nairn Park       43.690654       -79.456300                  Park  \n3       Maximum Woman       43.690651       -79.456333         Women's Store  \n4             Walmart       43.690660       -79.456317                Market  "
                    },
                    "execution_count": 172,
                    "metadata": {},
                    "output_type": "execute_result"
                }
            ]
        },
        {
            "metadata": {},
            "cell_type": "code",
            "source": "york_venues.info()",
            "execution_count": 173,
            "outputs": [
                {
                    "name": "stdout",
                    "output_type": "stream",
                    "text": "<class 'pandas.core.frame.DataFrame'>\nRangeIndex: 20 entries, 0 to 19\nData columns (total 7 columns):\nNeighbourhood              20 non-null object\nNeighbourhood Latitude     20 non-null float64\nNeighbourhood Longitude    20 non-null float64\nVenue                      20 non-null object\nVenue Latitude             20 non-null float64\nVenue Longitude            20 non-null float64\nVenue Category             20 non-null object\ndtypes: float64(4), object(3)\nmemory usage: 1.2+ KB\n"
                }
            ]
        },
        {
            "metadata": {},
            "cell_type": "markdown",
            "source": "Let's see how many venues were returned for each neighborhood:"
        },
        {
            "metadata": {},
            "cell_type": "code",
            "source": "york_venues.groupby('Neighbourhood').count()",
            "execution_count": 174,
            "outputs": [
                {
                    "data": {
                        "text/html": "<div>\n<style scoped>\n    .dataframe tbody tr th:only-of-type {\n        vertical-align: middle;\n    }\n\n    .dataframe tbody tr th {\n        vertical-align: top;\n    }\n\n    .dataframe thead th {\n        text-align: right;\n    }\n</style>\n<table border=\"1\" class=\"dataframe\">\n  <thead>\n    <tr style=\"text-align: right;\">\n      <th></th>\n      <th>Neighbourhood Latitude</th>\n      <th>Neighbourhood Longitude</th>\n      <th>Venue</th>\n      <th>Venue Latitude</th>\n      <th>Venue Longitude</th>\n      <th>Venue Category</th>\n    </tr>\n    <tr>\n      <th>Neighbourhood</th>\n      <th></th>\n      <th></th>\n      <th></th>\n      <th></th>\n      <th></th>\n      <th></th>\n    </tr>\n  </thead>\n  <tbody>\n    <tr>\n      <th>Caledonia-Fairbanks</th>\n      <td>6</td>\n      <td>6</td>\n      <td>6</td>\n      <td>6</td>\n      <td>6</td>\n      <td>6</td>\n    </tr>\n    <tr>\n      <th>Del Ray,Keelesdale,Mount Dennis,Silverthorn</th>\n      <td>4</td>\n      <td>4</td>\n      <td>4</td>\n      <td>4</td>\n      <td>4</td>\n      <td>4</td>\n    </tr>\n    <tr>\n      <th>Humewood-Cedarvale</th>\n      <td>4</td>\n      <td>4</td>\n      <td>4</td>\n      <td>4</td>\n      <td>4</td>\n      <td>4</td>\n    </tr>\n    <tr>\n      <th>The Junction North,Runnymede</th>\n      <td>4</td>\n      <td>4</td>\n      <td>4</td>\n      <td>4</td>\n      <td>4</td>\n      <td>4</td>\n    </tr>\n    <tr>\n      <th>Weston</th>\n      <td>2</td>\n      <td>2</td>\n      <td>2</td>\n      <td>2</td>\n      <td>2</td>\n      <td>2</td>\n    </tr>\n  </tbody>\n</table>\n</div>",
                        "text/plain": "                                             Neighbourhood Latitude  \\\nNeighbourhood                                                         \nCaledonia-Fairbanks                                               6   \nDel Ray,Keelesdale,Mount Dennis,Silverthorn                       4   \nHumewood-Cedarvale                                                4   \nThe Junction North,Runnymede                                      4   \nWeston                                                            2   \n\n                                             Neighbourhood Longitude  Venue  \\\nNeighbourhood                                                                 \nCaledonia-Fairbanks                                                6      6   \nDel Ray,Keelesdale,Mount Dennis,Silverthorn                        4      4   \nHumewood-Cedarvale                                                 4      4   \nThe Junction North,Runnymede                                       4      4   \nWeston                                                             2      2   \n\n                                             Venue Latitude  Venue Longitude  \\\nNeighbourhood                                                                  \nCaledonia-Fairbanks                                       6                6   \nDel Ray,Keelesdale,Mount Dennis,Silverthorn               4                4   \nHumewood-Cedarvale                                        4                4   \nThe Junction North,Runnymede                              4                4   \nWeston                                                    2                2   \n\n                                             Venue Category  \nNeighbourhood                                                \nCaledonia-Fairbanks                                       6  \nDel Ray,Keelesdale,Mount Dennis,Silverthorn               4  \nHumewood-Cedarvale                                        4  \nThe Junction North,Runnymede                              4  \nWeston                                                    2  "
                    },
                    "execution_count": 174,
                    "metadata": {},
                    "output_type": "execute_result"
                }
            ]
        },
        {
            "metadata": {},
            "cell_type": "markdown",
            "source": "Now let's see how many types of venues there are in York:"
        },
        {
            "metadata": {
                "scrolled": true
            },
            "cell_type": "code",
            "source": "print('There are {} uniques categories.'.format(len(york_venues['Venue Category'].unique())))\n",
            "execution_count": 176,
            "outputs": [
                {
                    "name": "stdout",
                    "output_type": "stream",
                    "text": "There are 17 uniques categories.\n"
                }
            ]
        },
        {
            "metadata": {},
            "cell_type": "markdown",
            "source": "## 3.5. Used these features to group the neighborhoods into clusters\n\n- use one hot coding to analyse each of the neighbourhoods in York, Torono:"
        },
        {
            "metadata": {},
            "cell_type": "code",
            "source": "# one hot encoding\nyork_onehot = pd.get_dummies(york_venues[['Venue Category']], prefix=\"\", prefix_sep=\"\")\n\n# add neighborhood column back to dataframe\nyork_onehot['Neighbourhood'] = york_venues['Neighbourhood'] \n\n# move neighborhood column to the first column\nyork_fixed_columns = [york_onehot.columns[-1]] + list(york_onehot.columns[:-1])\nyork_onehot = york_onehot[york_fixed_columns]\n\nyork_onehot.head()",
            "execution_count": 179,
            "outputs": [
                {
                    "data": {
                        "text/html": "<div>\n<style scoped>\n    .dataframe tbody tr th:only-of-type {\n        vertical-align: middle;\n    }\n\n    .dataframe tbody tr th {\n        vertical-align: top;\n    }\n\n    .dataframe thead th {\n        text-align: right;\n    }\n</style>\n<table border=\"1\" class=\"dataframe\">\n  <thead>\n    <tr style=\"text-align: right;\">\n      <th></th>\n      <th>Neighbourhood</th>\n      <th>Bus Line</th>\n      <th>Check Cashing Service</th>\n      <th>Convenience Store</th>\n      <th>Discount Store</th>\n      <th>Fast Food Restaurant</th>\n      <th>Field</th>\n      <th>Grocery Store</th>\n      <th>Hockey Arena</th>\n      <th>Market</th>\n      <th>Park</th>\n      <th>Pharmacy</th>\n      <th>Pizza Place</th>\n      <th>Restaurant</th>\n      <th>Sandwich Place</th>\n      <th>Tennis Court</th>\n      <th>Trail</th>\n      <th>Women's Store</th>\n    </tr>\n  </thead>\n  <tbody>\n    <tr>\n      <th>0</th>\n      <td>Caledonia-Fairbanks</td>\n      <td>0</td>\n      <td>0</td>\n      <td>0</td>\n      <td>0</td>\n      <td>0</td>\n      <td>0</td>\n      <td>0</td>\n      <td>0</td>\n      <td>0</td>\n      <td>0</td>\n      <td>1</td>\n      <td>0</td>\n      <td>0</td>\n      <td>0</td>\n      <td>0</td>\n      <td>0</td>\n      <td>0</td>\n    </tr>\n    <tr>\n      <th>1</th>\n      <td>Caledonia-Fairbanks</td>\n      <td>0</td>\n      <td>0</td>\n      <td>0</td>\n      <td>0</td>\n      <td>1</td>\n      <td>0</td>\n      <td>0</td>\n      <td>0</td>\n      <td>0</td>\n      <td>0</td>\n      <td>0</td>\n      <td>0</td>\n      <td>0</td>\n      <td>0</td>\n      <td>0</td>\n      <td>0</td>\n      <td>0</td>\n    </tr>\n    <tr>\n      <th>2</th>\n      <td>Caledonia-Fairbanks</td>\n      <td>0</td>\n      <td>0</td>\n      <td>0</td>\n      <td>0</td>\n      <td>0</td>\n      <td>0</td>\n      <td>0</td>\n      <td>0</td>\n      <td>0</td>\n      <td>1</td>\n      <td>0</td>\n      <td>0</td>\n      <td>0</td>\n      <td>0</td>\n      <td>0</td>\n      <td>0</td>\n      <td>0</td>\n    </tr>\n    <tr>\n      <th>3</th>\n      <td>Caledonia-Fairbanks</td>\n      <td>0</td>\n      <td>0</td>\n      <td>0</td>\n      <td>0</td>\n      <td>0</td>\n      <td>0</td>\n      <td>0</td>\n      <td>0</td>\n      <td>0</td>\n      <td>0</td>\n      <td>0</td>\n      <td>0</td>\n      <td>0</td>\n      <td>0</td>\n      <td>0</td>\n      <td>0</td>\n      <td>1</td>\n    </tr>\n    <tr>\n      <th>4</th>\n      <td>Caledonia-Fairbanks</td>\n      <td>0</td>\n      <td>0</td>\n      <td>0</td>\n      <td>0</td>\n      <td>0</td>\n      <td>0</td>\n      <td>0</td>\n      <td>0</td>\n      <td>1</td>\n      <td>0</td>\n      <td>0</td>\n      <td>0</td>\n      <td>0</td>\n      <td>0</td>\n      <td>0</td>\n      <td>0</td>\n      <td>0</td>\n    </tr>\n  </tbody>\n</table>\n</div>",
                        "text/plain": "         Neighbourhood  Bus Line  Check Cashing Service  Convenience Store  \\\n0  Caledonia-Fairbanks         0                      0                  0   \n1  Caledonia-Fairbanks         0                      0                  0   \n2  Caledonia-Fairbanks         0                      0                  0   \n3  Caledonia-Fairbanks         0                      0                  0   \n4  Caledonia-Fairbanks         0                      0                  0   \n\n   Discount Store  Fast Food Restaurant  Field  Grocery Store  Hockey Arena  \\\n0               0                     0      0              0             0   \n1               0                     1      0              0             0   \n2               0                     0      0              0             0   \n3               0                     0      0              0             0   \n4               0                     0      0              0             0   \n\n   Market  Park  Pharmacy  Pizza Place  Restaurant  Sandwich Place  \\\n0       0     0         1            0           0               0   \n1       0     0         0            0           0               0   \n2       0     1         0            0           0               0   \n3       0     0         0            0           0               0   \n4       1     0         0            0           0               0   \n\n   Tennis Court  Trail  Women's Store  \n0             0      0              0  \n1             0      0              0  \n2             0      0              0  \n3             0      0              1  \n4             0      0              0  "
                    },
                    "execution_count": 179,
                    "metadata": {},
                    "output_type": "execute_result"
                }
            ]
        },
        {
            "metadata": {},
            "cell_type": "code",
            "source": "york_onehot.info()",
            "execution_count": 180,
            "outputs": [
                {
                    "name": "stdout",
                    "output_type": "stream",
                    "text": "<class 'pandas.core.frame.DataFrame'>\nRangeIndex: 20 entries, 0 to 19\nData columns (total 18 columns):\nNeighbourhood            20 non-null object\nBus Line                 20 non-null uint8\nCheck Cashing Service    20 non-null uint8\nConvenience Store        20 non-null uint8\nDiscount Store           20 non-null uint8\nFast Food Restaurant     20 non-null uint8\nField                    20 non-null uint8\nGrocery Store            20 non-null uint8\nHockey Arena             20 non-null uint8\nMarket                   20 non-null uint8\nPark                     20 non-null uint8\nPharmacy                 20 non-null uint8\nPizza Place              20 non-null uint8\nRestaurant               20 non-null uint8\nSandwich Place           20 non-null uint8\nTennis Court             20 non-null uint8\nTrail                    20 non-null uint8\nWomen's Store            20 non-null uint8\ndtypes: object(1), uint8(17)\nmemory usage: 580.0+ bytes\n"
                }
            ]
        },
        {
            "metadata": {},
            "cell_type": "markdown",
            "source": "Let's group by neighbourhoods:"
        },
        {
            "metadata": {},
            "cell_type": "code",
            "source": "york_grouped = york_onehot.groupby('Neighbourhood').mean().reset_index()\nyork_grouped.head()",
            "execution_count": 181,
            "outputs": [
                {
                    "data": {
                        "text/html": "<div>\n<style scoped>\n    .dataframe tbody tr th:only-of-type {\n        vertical-align: middle;\n    }\n\n    .dataframe tbody tr th {\n        vertical-align: top;\n    }\n\n    .dataframe thead th {\n        text-align: right;\n    }\n</style>\n<table border=\"1\" class=\"dataframe\">\n  <thead>\n    <tr style=\"text-align: right;\">\n      <th></th>\n      <th>Neighbourhood</th>\n      <th>Bus Line</th>\n      <th>Check Cashing Service</th>\n      <th>Convenience Store</th>\n      <th>Discount Store</th>\n      <th>Fast Food Restaurant</th>\n      <th>Field</th>\n      <th>Grocery Store</th>\n      <th>Hockey Arena</th>\n      <th>Market</th>\n      <th>Park</th>\n      <th>Pharmacy</th>\n      <th>Pizza Place</th>\n      <th>Restaurant</th>\n      <th>Sandwich Place</th>\n      <th>Tennis Court</th>\n      <th>Trail</th>\n      <th>Women's Store</th>\n    </tr>\n  </thead>\n  <tbody>\n    <tr>\n      <th>0</th>\n      <td>Caledonia-Fairbanks</td>\n      <td>0.00</td>\n      <td>0.00</td>\n      <td>0.00</td>\n      <td>0.00</td>\n      <td>0.166667</td>\n      <td>0.00</td>\n      <td>0.00</td>\n      <td>0.00</td>\n      <td>0.166667</td>\n      <td>0.333333</td>\n      <td>0.166667</td>\n      <td>0.00</td>\n      <td>0.00</td>\n      <td>0.00</td>\n      <td>0.00</td>\n      <td>0.00</td>\n      <td>0.166667</td>\n    </tr>\n    <tr>\n      <th>1</th>\n      <td>Del Ray,Keelesdale,Mount Dennis,Silverthorn</td>\n      <td>0.00</td>\n      <td>0.25</td>\n      <td>0.00</td>\n      <td>0.25</td>\n      <td>0.000000</td>\n      <td>0.00</td>\n      <td>0.00</td>\n      <td>0.00</td>\n      <td>0.000000</td>\n      <td>0.000000</td>\n      <td>0.000000</td>\n      <td>0.00</td>\n      <td>0.25</td>\n      <td>0.25</td>\n      <td>0.00</td>\n      <td>0.00</td>\n      <td>0.000000</td>\n    </tr>\n    <tr>\n      <th>2</th>\n      <td>Humewood-Cedarvale</td>\n      <td>0.00</td>\n      <td>0.00</td>\n      <td>0.00</td>\n      <td>0.00</td>\n      <td>0.000000</td>\n      <td>0.25</td>\n      <td>0.00</td>\n      <td>0.25</td>\n      <td>0.000000</td>\n      <td>0.000000</td>\n      <td>0.000000</td>\n      <td>0.00</td>\n      <td>0.00</td>\n      <td>0.00</td>\n      <td>0.25</td>\n      <td>0.25</td>\n      <td>0.000000</td>\n    </tr>\n    <tr>\n      <th>3</th>\n      <td>The Junction North,Runnymede</td>\n      <td>0.25</td>\n      <td>0.00</td>\n      <td>0.25</td>\n      <td>0.00</td>\n      <td>0.000000</td>\n      <td>0.00</td>\n      <td>0.25</td>\n      <td>0.00</td>\n      <td>0.000000</td>\n      <td>0.000000</td>\n      <td>0.000000</td>\n      <td>0.25</td>\n      <td>0.00</td>\n      <td>0.00</td>\n      <td>0.00</td>\n      <td>0.00</td>\n      <td>0.000000</td>\n    </tr>\n    <tr>\n      <th>4</th>\n      <td>Weston</td>\n      <td>0.00</td>\n      <td>0.00</td>\n      <td>0.00</td>\n      <td>0.00</td>\n      <td>0.000000</td>\n      <td>0.00</td>\n      <td>0.00</td>\n      <td>0.00</td>\n      <td>0.000000</td>\n      <td>1.000000</td>\n      <td>0.000000</td>\n      <td>0.00</td>\n      <td>0.00</td>\n      <td>0.00</td>\n      <td>0.00</td>\n      <td>0.00</td>\n      <td>0.000000</td>\n    </tr>\n  </tbody>\n</table>\n</div>",
                        "text/plain": "                                 Neighbourhood  Bus Line  \\\n0                          Caledonia-Fairbanks      0.00   \n1  Del Ray,Keelesdale,Mount Dennis,Silverthorn      0.00   \n2                           Humewood-Cedarvale      0.00   \n3                 The Junction North,Runnymede      0.25   \n4                                       Weston      0.00   \n\n   Check Cashing Service  Convenience Store  Discount Store  \\\n0                   0.00               0.00            0.00   \n1                   0.25               0.00            0.25   \n2                   0.00               0.00            0.00   \n3                   0.00               0.25            0.00   \n4                   0.00               0.00            0.00   \n\n   Fast Food Restaurant  Field  Grocery Store  Hockey Arena    Market  \\\n0              0.166667   0.00           0.00          0.00  0.166667   \n1              0.000000   0.00           0.00          0.00  0.000000   \n2              0.000000   0.25           0.00          0.25  0.000000   \n3              0.000000   0.00           0.25          0.00  0.000000   \n4              0.000000   0.00           0.00          0.00  0.000000   \n\n       Park  Pharmacy  Pizza Place  Restaurant  Sandwich Place  Tennis Court  \\\n0  0.333333  0.166667         0.00        0.00            0.00          0.00   \n1  0.000000  0.000000         0.00        0.25            0.25          0.00   \n2  0.000000  0.000000         0.00        0.00            0.00          0.25   \n3  0.000000  0.000000         0.25        0.00            0.00          0.00   \n4  1.000000  0.000000         0.00        0.00            0.00          0.00   \n\n   Trail  Women's Store  \n0   0.00       0.166667  \n1   0.00       0.000000  \n2   0.25       0.000000  \n3   0.00       0.000000  \n4   0.00       0.000000  "
                    },
                    "execution_count": 181,
                    "metadata": {},
                    "output_type": "execute_result"
                }
            ]
        },
        {
            "metadata": {},
            "cell_type": "code",
            "source": "york_grouped.info()",
            "execution_count": 182,
            "outputs": [
                {
                    "name": "stdout",
                    "output_type": "stream",
                    "text": "<class 'pandas.core.frame.DataFrame'>\nRangeIndex: 5 entries, 0 to 4\nData columns (total 18 columns):\nNeighbourhood            5 non-null object\nBus Line                 5 non-null float64\nCheck Cashing Service    5 non-null float64\nConvenience Store        5 non-null float64\nDiscount Store           5 non-null float64\nFast Food Restaurant     5 non-null float64\nField                    5 non-null float64\nGrocery Store            5 non-null float64\nHockey Arena             5 non-null float64\nMarket                   5 non-null float64\nPark                     5 non-null float64\nPharmacy                 5 non-null float64\nPizza Place              5 non-null float64\nRestaurant               5 non-null float64\nSandwich Place           5 non-null float64\nTennis Court             5 non-null float64\nTrail                    5 non-null float64\nWomen's Store            5 non-null float64\ndtypes: float64(17), object(1)\nmemory usage: 800.0+ bytes\n"
                }
            ]
        },
        {
            "metadata": {},
            "cell_type": "markdown",
            "source": "Let's find the top venues:"
        },
        {
            "metadata": {},
            "cell_type": "code",
            "source": "num_top_venues = 3\n\nfor hood in york_grouped['Neighbourhood']:\n    print(\"----\"+hood+\"----\")\n    york_temp = york_grouped[york_grouped['Neighbourhood'] == hood].T.reset_index()\n    york_temp.columns = ['venue','freq']\n    york_temp = york_temp.iloc[1:]\n    york_temp['freq'] = york_temp['freq'].astype(float)\n    york_temp = york_temp.round({'freq': 2})\n    print(york_temp.sort_values('freq', ascending=False).reset_index(drop=True).head(num_top_venues))\n    print('\\n')",
            "execution_count": 186,
            "outputs": [
                {
                    "name": "stdout",
                    "output_type": "stream",
                    "text": "----Caledonia-Fairbanks----\n                  venue  freq\n0                  Park  0.33\n1                Market  0.17\n2  Fast Food Restaurant  0.17\n\n\n----Del Ray,Keelesdale,Mount Dennis,Silverthorn----\n            venue  freq\n0  Discount Store  0.25\n1  Sandwich Place  0.25\n2      Restaurant  0.25\n\n\n----Humewood-Cedarvale----\n          venue  freq\n0         Trail  0.25\n1  Tennis Court  0.25\n2         Field  0.25\n\n\n----The Junction North,Runnymede----\n               venue  freq\n0           Bus Line  0.25\n1  Convenience Store  0.25\n2      Grocery Store  0.25\n\n\n----Weston----\n      venue  freq\n0      Park   1.0\n1  Bus Line   0.0\n2     Trail   0.0\n\n\n"
                }
            ]
        },
        {
            "metadata": {},
            "cell_type": "markdown",
            "source": "### Let's put that into a pandas dataframe\n\n- write a function to sort the venues in descending order."
        },
        {
            "metadata": {},
            "cell_type": "code",
            "source": "def return_most_common_venues(row, num_top_venues):\n    row_categories = row.iloc[1:]\n    row_categories_sorted = row_categories.sort_values(ascending=False)\n    \n    return row_categories_sorted.index.values[0:num_top_venues]",
            "execution_count": 187,
            "outputs": []
        },
        {
            "metadata": {},
            "cell_type": "markdown",
            "source": "- Now let's create the new dataframe and display the top 7 venues for each neighborhood."
        },
        {
            "metadata": {},
            "cell_type": "code",
            "source": "num_top_venues = 17\n\nindicators = ['st', 'nd', 'rd']\n\n# create columns according to number of top venues\ncolumns = ['Neighbourhood']\nfor ind in np.arange(num_top_venues):\n    try:\n        columns.append('{}{} Most Common Venue'.format(ind+1, indicators[ind]))\n    except:\n        columns.append('{}th Most Common Venue'.format(ind+1))\n\n# create a new dataframe\nyork_neighbourhoods_venues_sorted = pd.DataFrame(columns=columns)\n\nyork_neighbourhoods_venues_sorted",
            "execution_count": 211,
            "outputs": [
                {
                    "data": {
                        "text/html": "<div>\n<style scoped>\n    .dataframe tbody tr th:only-of-type {\n        vertical-align: middle;\n    }\n\n    .dataframe tbody tr th {\n        vertical-align: top;\n    }\n\n    .dataframe thead th {\n        text-align: right;\n    }\n</style>\n<table border=\"1\" class=\"dataframe\">\n  <thead>\n    <tr style=\"text-align: right;\">\n      <th></th>\n      <th>Neighbourhood</th>\n      <th>1st Most Common Venue</th>\n      <th>2nd Most Common Venue</th>\n      <th>3rd Most Common Venue</th>\n      <th>4th Most Common Venue</th>\n      <th>5th Most Common Venue</th>\n      <th>6th Most Common Venue</th>\n      <th>7th Most Common Venue</th>\n      <th>8th Most Common Venue</th>\n      <th>9th Most Common Venue</th>\n      <th>10th Most Common Venue</th>\n      <th>11th Most Common Venue</th>\n      <th>12th Most Common Venue</th>\n      <th>13th Most Common Venue</th>\n      <th>14th Most Common Venue</th>\n      <th>15th Most Common Venue</th>\n      <th>16th Most Common Venue</th>\n      <th>17th Most Common Venue</th>\n    </tr>\n  </thead>\n  <tbody>\n  </tbody>\n</table>\n</div>",
                        "text/plain": "Empty DataFrame\nColumns: [Neighbourhood, 1st Most Common Venue, 2nd Most Common Venue, 3rd Most Common Venue, 4th Most Common Venue, 5th Most Common Venue, 6th Most Common Venue, 7th Most Common Venue, 8th Most Common Venue, 9th Most Common Venue, 10th Most Common Venue, 11th Most Common Venue, 12th Most Common Venue, 13th Most Common Venue, 14th Most Common Venue, 15th Most Common Venue, 16th Most Common Venue, 17th Most Common Venue]\nIndex: []"
                    },
                    "execution_count": 211,
                    "metadata": {},
                    "output_type": "execute_result"
                }
            ]
        },
        {
            "metadata": {},
            "cell_type": "code",
            "source": "york_neighbourhoods_venues_sorted['Neighbourhood'] = york_grouped['Neighbourhood']\n\nyork_neighbourhoods_venues_sorted.head(2)",
            "execution_count": 213,
            "outputs": [
                {
                    "data": {
                        "text/html": "<div>\n<style scoped>\n    .dataframe tbody tr th:only-of-type {\n        vertical-align: middle;\n    }\n\n    .dataframe tbody tr th {\n        vertical-align: top;\n    }\n\n    .dataframe thead th {\n        text-align: right;\n    }\n</style>\n<table border=\"1\" class=\"dataframe\">\n  <thead>\n    <tr style=\"text-align: right;\">\n      <th></th>\n      <th>Neighbourhood</th>\n      <th>1st Most Common Venue</th>\n      <th>2nd Most Common Venue</th>\n      <th>3rd Most Common Venue</th>\n      <th>4th Most Common Venue</th>\n      <th>5th Most Common Venue</th>\n      <th>6th Most Common Venue</th>\n      <th>7th Most Common Venue</th>\n      <th>8th Most Common Venue</th>\n      <th>9th Most Common Venue</th>\n      <th>10th Most Common Venue</th>\n      <th>11th Most Common Venue</th>\n      <th>12th Most Common Venue</th>\n      <th>13th Most Common Venue</th>\n      <th>14th Most Common Venue</th>\n      <th>15th Most Common Venue</th>\n      <th>16th Most Common Venue</th>\n      <th>17th Most Common Venue</th>\n    </tr>\n  </thead>\n  <tbody>\n    <tr>\n      <th>0</th>\n      <td>Caledonia-Fairbanks</td>\n      <td>NaN</td>\n      <td>NaN</td>\n      <td>NaN</td>\n      <td>NaN</td>\n      <td>NaN</td>\n      <td>NaN</td>\n      <td>NaN</td>\n      <td>NaN</td>\n      <td>NaN</td>\n      <td>NaN</td>\n      <td>NaN</td>\n      <td>NaN</td>\n      <td>NaN</td>\n      <td>NaN</td>\n      <td>NaN</td>\n      <td>NaN</td>\n      <td>NaN</td>\n    </tr>\n    <tr>\n      <th>1</th>\n      <td>Del Ray,Keelesdale,Mount Dennis,Silverthorn</td>\n      <td>NaN</td>\n      <td>NaN</td>\n      <td>NaN</td>\n      <td>NaN</td>\n      <td>NaN</td>\n      <td>NaN</td>\n      <td>NaN</td>\n      <td>NaN</td>\n      <td>NaN</td>\n      <td>NaN</td>\n      <td>NaN</td>\n      <td>NaN</td>\n      <td>NaN</td>\n      <td>NaN</td>\n      <td>NaN</td>\n      <td>NaN</td>\n      <td>NaN</td>\n    </tr>\n  </tbody>\n</table>\n</div>",
                        "text/plain": "                                 Neighbourhood 1st Most Common Venue  \\\n0                          Caledonia-Fairbanks                   NaN   \n1  Del Ray,Keelesdale,Mount Dennis,Silverthorn                   NaN   \n\n  2nd Most Common Venue 3rd Most Common Venue 4th Most Common Venue  \\\n0                   NaN                   NaN                   NaN   \n1                   NaN                   NaN                   NaN   \n\n  5th Most Common Venue 6th Most Common Venue 7th Most Common Venue  \\\n0                   NaN                   NaN                   NaN   \n1                   NaN                   NaN                   NaN   \n\n  8th Most Common Venue 9th Most Common Venue 10th Most Common Venue  \\\n0                   NaN                   NaN                    NaN   \n1                   NaN                   NaN                    NaN   \n\n  11th Most Common Venue 12th Most Common Venue 13th Most Common Venue  \\\n0                    NaN                    NaN                    NaN   \n1                    NaN                    NaN                    NaN   \n\n  14th Most Common Venue 15th Most Common Venue 16th Most Common Venue  \\\n0                    NaN                    NaN                    NaN   \n1                    NaN                    NaN                    NaN   \n\n  17th Most Common Venue  \n0                    NaN  \n1                    NaN  "
                    },
                    "execution_count": 213,
                    "metadata": {},
                    "output_type": "execute_result"
                }
            ]
        },
        {
            "metadata": {},
            "cell_type": "code",
            "source": "for ind in np.arange(york_grouped.shape[0]):\n    york_neighbourhoods_venues_sorted.iloc[ind, 1:] = return_most_common_venues(york_grouped.iloc[ind, :], num_top_venues)\n\nyork_neighbourhoods_venues_sorted.head(2)",
            "execution_count": 214,
            "outputs": [
                {
                    "data": {
                        "text/html": "<div>\n<style scoped>\n    .dataframe tbody tr th:only-of-type {\n        vertical-align: middle;\n    }\n\n    .dataframe tbody tr th {\n        vertical-align: top;\n    }\n\n    .dataframe thead th {\n        text-align: right;\n    }\n</style>\n<table border=\"1\" class=\"dataframe\">\n  <thead>\n    <tr style=\"text-align: right;\">\n      <th></th>\n      <th>Neighbourhood</th>\n      <th>1st Most Common Venue</th>\n      <th>2nd Most Common Venue</th>\n      <th>3rd Most Common Venue</th>\n      <th>4th Most Common Venue</th>\n      <th>5th Most Common Venue</th>\n      <th>6th Most Common Venue</th>\n      <th>7th Most Common Venue</th>\n      <th>8th Most Common Venue</th>\n      <th>9th Most Common Venue</th>\n      <th>10th Most Common Venue</th>\n      <th>11th Most Common Venue</th>\n      <th>12th Most Common Venue</th>\n      <th>13th Most Common Venue</th>\n      <th>14th Most Common Venue</th>\n      <th>15th Most Common Venue</th>\n      <th>16th Most Common Venue</th>\n      <th>17th Most Common Venue</th>\n    </tr>\n  </thead>\n  <tbody>\n    <tr>\n      <th>0</th>\n      <td>Caledonia-Fairbanks</td>\n      <td>Park</td>\n      <td>Women's Store</td>\n      <td>Pharmacy</td>\n      <td>Fast Food Restaurant</td>\n      <td>Market</td>\n      <td>Pizza Place</td>\n      <td>Restaurant</td>\n      <td>Sandwich Place</td>\n      <td>Trail</td>\n      <td>Hockey Arena</td>\n      <td>Grocery Store</td>\n      <td>Field</td>\n      <td>Tennis Court</td>\n      <td>Discount Store</td>\n      <td>Convenience Store</td>\n      <td>Check Cashing Service</td>\n      <td>Bus Line</td>\n    </tr>\n    <tr>\n      <th>1</th>\n      <td>Del Ray,Keelesdale,Mount Dennis,Silverthorn</td>\n      <td>Check Cashing Service</td>\n      <td>Sandwich Place</td>\n      <td>Restaurant</td>\n      <td>Discount Store</td>\n      <td>Women's Store</td>\n      <td>Grocery Store</td>\n      <td>Convenience Store</td>\n      <td>Fast Food Restaurant</td>\n      <td>Field</td>\n      <td>Market</td>\n      <td>Hockey Arena</td>\n      <td>Trail</td>\n      <td>Park</td>\n      <td>Pharmacy</td>\n      <td>Pizza Place</td>\n      <td>Tennis Court</td>\n      <td>Bus Line</td>\n    </tr>\n  </tbody>\n</table>\n</div>",
                        "text/plain": "                                 Neighbourhood  1st Most Common Venue  \\\n0                          Caledonia-Fairbanks                   Park   \n1  Del Ray,Keelesdale,Mount Dennis,Silverthorn  Check Cashing Service   \n\n  2nd Most Common Venue 3rd Most Common Venue 4th Most Common Venue  \\\n0         Women's Store              Pharmacy  Fast Food Restaurant   \n1        Sandwich Place            Restaurant        Discount Store   \n\n  5th Most Common Venue 6th Most Common Venue 7th Most Common Venue  \\\n0                Market           Pizza Place            Restaurant   \n1         Women's Store         Grocery Store     Convenience Store   \n\n  8th Most Common Venue 9th Most Common Venue 10th Most Common Venue  \\\n0        Sandwich Place                 Trail           Hockey Arena   \n1  Fast Food Restaurant                 Field                 Market   \n\n  11th Most Common Venue 12th Most Common Venue 13th Most Common Venue  \\\n0          Grocery Store                  Field           Tennis Court   \n1           Hockey Arena                  Trail                   Park   \n\n  14th Most Common Venue 15th Most Common Venue 16th Most Common Venue  \\\n0         Discount Store      Convenience Store  Check Cashing Service   \n1               Pharmacy            Pizza Place           Tennis Court   \n\n  17th Most Common Venue  \n0               Bus Line  \n1               Bus Line  "
                    },
                    "execution_count": 214,
                    "metadata": {},
                    "output_type": "execute_result"
                }
            ]
        },
        {
            "metadata": {},
            "cell_type": "markdown",
            "source": "## 3.4. Used the Folium library to generated maps to visualize neighborhoods on and how they cluster together.\n\n\n###  Run k-means to cluster the neighborhood into 2 clusters."
        },
        {
            "metadata": {},
            "cell_type": "code",
            "source": "# set number of clusters\nkclusters = 2\n\nyork_grouped_clustering = york_grouped.drop('Neighbourhood', 1)\n\n# run k-means clustering\nyork_kmeans = KMeans(n_clusters=kclusters, random_state=0).fit(york_grouped_clustering)\n\n# check cluster labels generated for each row in the dataframe\nyork_kmeans.labels_[0:5] ",
            "execution_count": 215,
            "outputs": [
                {
                    "data": {
                        "text/plain": "array([1, 1, 1, 1, 0], dtype=int32)"
                    },
                    "execution_count": 215,
                    "metadata": {},
                    "output_type": "execute_result"
                }
            ]
        },
        {
            "metadata": {},
            "cell_type": "markdown",
            "source": "now lets merge the clusters & sorted venue table:"
        },
        {
            "metadata": {},
            "cell_type": "code",
            "source": "# add clustering labels\nyork_neighbourhoods_venues_sorted.insert(0, 'Cluster Labels', york_kmeans.labels_)\n\nyork_merged = york_data\n\n# merge toronto_grouped with toronto_data to add latitude/longitude for each neighborhood\nyork_merged = york_merged.join(york_neighbourhoods_venues_sorted.set_index('Neighbourhood'), on='Neighbourhood')\n\nyork_merged",
            "execution_count": 216,
            "outputs": [
                {
                    "data": {
                        "text/html": "<div>\n<style scoped>\n    .dataframe tbody tr th:only-of-type {\n        vertical-align: middle;\n    }\n\n    .dataframe tbody tr th {\n        vertical-align: top;\n    }\n\n    .dataframe thead th {\n        text-align: right;\n    }\n</style>\n<table border=\"1\" class=\"dataframe\">\n  <thead>\n    <tr style=\"text-align: right;\">\n      <th></th>\n      <th>PostalCode</th>\n      <th>Borough</th>\n      <th>Neighbourhood</th>\n      <th>Latitude</th>\n      <th>Longitude</th>\n      <th>Cluster Labels</th>\n      <th>1st Most Common Venue</th>\n      <th>2nd Most Common Venue</th>\n      <th>3rd Most Common Venue</th>\n      <th>4th Most Common Venue</th>\n      <th>5th Most Common Venue</th>\n      <th>6th Most Common Venue</th>\n      <th>7th Most Common Venue</th>\n      <th>8th Most Common Venue</th>\n      <th>9th Most Common Venue</th>\n      <th>10th Most Common Venue</th>\n      <th>11th Most Common Venue</th>\n      <th>12th Most Common Venue</th>\n      <th>13th Most Common Venue</th>\n      <th>14th Most Common Venue</th>\n      <th>15th Most Common Venue</th>\n      <th>16th Most Common Venue</th>\n      <th>17th Most Common Venue</th>\n    </tr>\n  </thead>\n  <tbody>\n    <tr>\n      <th>0</th>\n      <td>M6E</td>\n      <td>York</td>\n      <td>Caledonia-Fairbanks</td>\n      <td>43.689026</td>\n      <td>-79.453512</td>\n      <td>1</td>\n      <td>Park</td>\n      <td>Women's Store</td>\n      <td>Pharmacy</td>\n      <td>Fast Food Restaurant</td>\n      <td>Market</td>\n      <td>Pizza Place</td>\n      <td>Restaurant</td>\n      <td>Sandwich Place</td>\n      <td>Trail</td>\n      <td>Hockey Arena</td>\n      <td>Grocery Store</td>\n      <td>Field</td>\n      <td>Tennis Court</td>\n      <td>Discount Store</td>\n      <td>Convenience Store</td>\n      <td>Check Cashing Service</td>\n      <td>Bus Line</td>\n    </tr>\n    <tr>\n      <th>1</th>\n      <td>M6M</td>\n      <td>York</td>\n      <td>Del Ray,Keelesdale,Mount Dennis,Silverthorn</td>\n      <td>43.691116</td>\n      <td>-79.476013</td>\n      <td>1</td>\n      <td>Check Cashing Service</td>\n      <td>Sandwich Place</td>\n      <td>Restaurant</td>\n      <td>Discount Store</td>\n      <td>Women's Store</td>\n      <td>Grocery Store</td>\n      <td>Convenience Store</td>\n      <td>Fast Food Restaurant</td>\n      <td>Field</td>\n      <td>Market</td>\n      <td>Hockey Arena</td>\n      <td>Trail</td>\n      <td>Park</td>\n      <td>Pharmacy</td>\n      <td>Pizza Place</td>\n      <td>Tennis Court</td>\n      <td>Bus Line</td>\n    </tr>\n    <tr>\n      <th>2</th>\n      <td>M6C</td>\n      <td>York</td>\n      <td>Humewood-Cedarvale</td>\n      <td>43.693781</td>\n      <td>-79.428191</td>\n      <td>1</td>\n      <td>Tennis Court</td>\n      <td>Field</td>\n      <td>Trail</td>\n      <td>Hockey Arena</td>\n      <td>Women's Store</td>\n      <td>Grocery Store</td>\n      <td>Check Cashing Service</td>\n      <td>Convenience Store</td>\n      <td>Discount Store</td>\n      <td>Fast Food Restaurant</td>\n      <td>Market</td>\n      <td>Park</td>\n      <td>Pharmacy</td>\n      <td>Pizza Place</td>\n      <td>Restaurant</td>\n      <td>Sandwich Place</td>\n      <td>Bus Line</td>\n    </tr>\n    <tr>\n      <th>3</th>\n      <td>M6N</td>\n      <td>York</td>\n      <td>The Junction North,Runnymede</td>\n      <td>43.673185</td>\n      <td>-79.487262</td>\n      <td>1</td>\n      <td>Bus Line</td>\n      <td>Convenience Store</td>\n      <td>Pizza Place</td>\n      <td>Grocery Store</td>\n      <td>Hockey Arena</td>\n      <td>Check Cashing Service</td>\n      <td>Discount Store</td>\n      <td>Fast Food Restaurant</td>\n      <td>Field</td>\n      <td>Women's Store</td>\n      <td>Trail</td>\n      <td>Park</td>\n      <td>Pharmacy</td>\n      <td>Restaurant</td>\n      <td>Sandwich Place</td>\n      <td>Tennis Court</td>\n      <td>Market</td>\n    </tr>\n    <tr>\n      <th>4</th>\n      <td>M9N</td>\n      <td>York</td>\n      <td>Weston</td>\n      <td>43.706876</td>\n      <td>-79.518188</td>\n      <td>0</td>\n      <td>Park</td>\n      <td>Women's Store</td>\n      <td>Hockey Arena</td>\n      <td>Check Cashing Service</td>\n      <td>Convenience Store</td>\n      <td>Discount Store</td>\n      <td>Fast Food Restaurant</td>\n      <td>Field</td>\n      <td>Grocery Store</td>\n      <td>Market</td>\n      <td>Trail</td>\n      <td>Pharmacy</td>\n      <td>Pizza Place</td>\n      <td>Restaurant</td>\n      <td>Sandwich Place</td>\n      <td>Tennis Court</td>\n      <td>Bus Line</td>\n    </tr>\n  </tbody>\n</table>\n</div>",
                        "text/plain": "  PostalCode Borough                                Neighbourhood   Latitude  \\\n0        M6E    York                          Caledonia-Fairbanks  43.689026   \n1        M6M    York  Del Ray,Keelesdale,Mount Dennis,Silverthorn  43.691116   \n2        M6C    York                           Humewood-Cedarvale  43.693781   \n3        M6N    York                 The Junction North,Runnymede  43.673185   \n4        M9N    York                                       Weston  43.706876   \n\n   Longitude  Cluster Labels  1st Most Common Venue 2nd Most Common Venue  \\\n0 -79.453512               1                   Park         Women's Store   \n1 -79.476013               1  Check Cashing Service        Sandwich Place   \n2 -79.428191               1           Tennis Court                 Field   \n3 -79.487262               1               Bus Line     Convenience Store   \n4 -79.518188               0                   Park         Women's Store   \n\n  3rd Most Common Venue  4th Most Common Venue 5th Most Common Venue  \\\n0              Pharmacy   Fast Food Restaurant                Market   \n1            Restaurant         Discount Store         Women's Store   \n2                 Trail           Hockey Arena         Women's Store   \n3           Pizza Place          Grocery Store          Hockey Arena   \n4          Hockey Arena  Check Cashing Service     Convenience Store   \n\n   6th Most Common Venue  7th Most Common Venue 8th Most Common Venue  \\\n0            Pizza Place             Restaurant        Sandwich Place   \n1          Grocery Store      Convenience Store  Fast Food Restaurant   \n2          Grocery Store  Check Cashing Service     Convenience Store   \n3  Check Cashing Service         Discount Store  Fast Food Restaurant   \n4         Discount Store   Fast Food Restaurant                 Field   \n\n  9th Most Common Venue 10th Most Common Venue 11th Most Common Venue  \\\n0                 Trail           Hockey Arena          Grocery Store   \n1                 Field                 Market           Hockey Arena   \n2        Discount Store   Fast Food Restaurant                 Market   \n3                 Field          Women's Store                  Trail   \n4         Grocery Store                 Market                  Trail   \n\n  12th Most Common Venue 13th Most Common Venue 14th Most Common Venue  \\\n0                  Field           Tennis Court         Discount Store   \n1                  Trail                   Park               Pharmacy   \n2                   Park               Pharmacy            Pizza Place   \n3                   Park               Pharmacy             Restaurant   \n4               Pharmacy            Pizza Place             Restaurant   \n\n  15th Most Common Venue 16th Most Common Venue 17th Most Common Venue  \n0      Convenience Store  Check Cashing Service               Bus Line  \n1            Pizza Place           Tennis Court               Bus Line  \n2             Restaurant         Sandwich Place               Bus Line  \n3         Sandwich Place           Tennis Court                 Market  \n4         Sandwich Place           Tennis Court               Bus Line  "
                    },
                    "execution_count": 216,
                    "metadata": {},
                    "output_type": "execute_result"
                }
            ]
        },
        {
            "metadata": {},
            "cell_type": "markdown",
            "source": "### Generate maps to visualize your neighborhoods and how they cluster together.\n\n"
        },
        {
            "metadata": {},
            "cell_type": "code",
            "source": "# create map\nyork_map_clusters = folium.Map(location=[latitude, longitude], zoom_start=11)\n\n# set color scheme for the clusters\nx = np.arange(kclusters)\nys = [i + x + (i*x)**2 for i in range(kclusters)]\ncolors_array = cm.rainbow(np.linspace(0, 1, len(ys)))\nrainbow = [colors.rgb2hex(i) for i in colors_array]\n\n# add markers to the map\nmarkers_colors = []\nfor lat, lon, poi, cluster in zip(york_merged['Latitude'], york_merged['Longitude'], york_merged['Neighbourhood'], york_merged['Cluster Labels']):\n    label = folium.Popup(str(poi) + ' Cluster ' + str(cluster), parse_html=True)\n    folium.CircleMarker(\n        [lat, lon],\n        radius=5,\n        popup=label,\n        color=rainbow[cluster-1],\n        fill=True,\n        fill_color=rainbow[cluster-1],\n        fill_opacity=0.7).add_to(york_map_clusters)\n       \nyork_map_clusters\n\nyork_map_clusters.save(\"york_map_clusters.html\")\n\n#open york_map_clusters.html in browser\n#if you cannot generate the maps open PGA_map_*.html from the zip file",
            "execution_count": 217,
            "outputs": []
        },
        {
            "metadata": {},
            "cell_type": "markdown",
            "source": "### Examine Clusters\n\n- examen & determine the discriminating venue categories that distinguish each cluster. "
        },
        {
            "metadata": {},
            "cell_type": "markdown",
            "source": "- Red Cluster:\n"
        },
        {
            "metadata": {},
            "cell_type": "code",
            "source": "york_merged.loc[york_merged['Cluster Labels'] == 0, york_merged.columns[[1] + list(range(5, york_merged.shape[1]))]]",
            "execution_count": 218,
            "outputs": [
                {
                    "data": {
                        "text/html": "<div>\n<style scoped>\n    .dataframe tbody tr th:only-of-type {\n        vertical-align: middle;\n    }\n\n    .dataframe tbody tr th {\n        vertical-align: top;\n    }\n\n    .dataframe thead th {\n        text-align: right;\n    }\n</style>\n<table border=\"1\" class=\"dataframe\">\n  <thead>\n    <tr style=\"text-align: right;\">\n      <th></th>\n      <th>Borough</th>\n      <th>Cluster Labels</th>\n      <th>1st Most Common Venue</th>\n      <th>2nd Most Common Venue</th>\n      <th>3rd Most Common Venue</th>\n      <th>4th Most Common Venue</th>\n      <th>5th Most Common Venue</th>\n      <th>6th Most Common Venue</th>\n      <th>7th Most Common Venue</th>\n      <th>8th Most Common Venue</th>\n      <th>9th Most Common Venue</th>\n      <th>10th Most Common Venue</th>\n      <th>11th Most Common Venue</th>\n      <th>12th Most Common Venue</th>\n      <th>13th Most Common Venue</th>\n      <th>14th Most Common Venue</th>\n      <th>15th Most Common Venue</th>\n      <th>16th Most Common Venue</th>\n      <th>17th Most Common Venue</th>\n    </tr>\n  </thead>\n  <tbody>\n    <tr>\n      <th>4</th>\n      <td>York</td>\n      <td>0</td>\n      <td>Park</td>\n      <td>Women's Store</td>\n      <td>Hockey Arena</td>\n      <td>Check Cashing Service</td>\n      <td>Convenience Store</td>\n      <td>Discount Store</td>\n      <td>Fast Food Restaurant</td>\n      <td>Field</td>\n      <td>Grocery Store</td>\n      <td>Market</td>\n      <td>Trail</td>\n      <td>Pharmacy</td>\n      <td>Pizza Place</td>\n      <td>Restaurant</td>\n      <td>Sandwich Place</td>\n      <td>Tennis Court</td>\n      <td>Bus Line</td>\n    </tr>\n  </tbody>\n</table>\n</div>",
                        "text/plain": "  Borough  Cluster Labels 1st Most Common Venue 2nd Most Common Venue  \\\n4    York               0                  Park         Women's Store   \n\n  3rd Most Common Venue  4th Most Common Venue 5th Most Common Venue  \\\n4          Hockey Arena  Check Cashing Service     Convenience Store   \n\n  6th Most Common Venue 7th Most Common Venue 8th Most Common Venue  \\\n4        Discount Store  Fast Food Restaurant                 Field   \n\n  9th Most Common Venue 10th Most Common Venue 11th Most Common Venue  \\\n4         Grocery Store                 Market                  Trail   \n\n  12th Most Common Venue 13th Most Common Venue 14th Most Common Venue  \\\n4               Pharmacy            Pizza Place             Restaurant   \n\n  15th Most Common Venue 16th Most Common Venue 17th Most Common Venue  \n4         Sandwich Place           Tennis Court               Bus Line  "
                    },
                    "execution_count": 218,
                    "metadata": {},
                    "output_type": "execute_result"
                }
            ]
        },
        {
            "metadata": {},
            "cell_type": "markdown",
            "source": "- Blue Cluster:"
        },
        {
            "metadata": {},
            "cell_type": "markdown",
            "source": "#### The neigbourhood Westson standsout from the four others in the York borough of  Toronto, with an important Park and as can be seen on the map is close to the highway, its other imporant venues are women's stores and hockey areana.\n  \n"
        },
        {
            "metadata": {},
            "cell_type": "code",
            "source": "york_merged.loc[york_merged['Cluster Labels'] == 1, york_merged.columns[[1] + list(range(5, york_merged.shape[1]))]]",
            "execution_count": 219,
            "outputs": [
                {
                    "data": {
                        "text/html": "<div>\n<style scoped>\n    .dataframe tbody tr th:only-of-type {\n        vertical-align: middle;\n    }\n\n    .dataframe tbody tr th {\n        vertical-align: top;\n    }\n\n    .dataframe thead th {\n        text-align: right;\n    }\n</style>\n<table border=\"1\" class=\"dataframe\">\n  <thead>\n    <tr style=\"text-align: right;\">\n      <th></th>\n      <th>Borough</th>\n      <th>Cluster Labels</th>\n      <th>1st Most Common Venue</th>\n      <th>2nd Most Common Venue</th>\n      <th>3rd Most Common Venue</th>\n      <th>4th Most Common Venue</th>\n      <th>5th Most Common Venue</th>\n      <th>6th Most Common Venue</th>\n      <th>7th Most Common Venue</th>\n      <th>8th Most Common Venue</th>\n      <th>9th Most Common Venue</th>\n      <th>10th Most Common Venue</th>\n      <th>11th Most Common Venue</th>\n      <th>12th Most Common Venue</th>\n      <th>13th Most Common Venue</th>\n      <th>14th Most Common Venue</th>\n      <th>15th Most Common Venue</th>\n      <th>16th Most Common Venue</th>\n      <th>17th Most Common Venue</th>\n    </tr>\n  </thead>\n  <tbody>\n    <tr>\n      <th>0</th>\n      <td>York</td>\n      <td>1</td>\n      <td>Park</td>\n      <td>Women's Store</td>\n      <td>Pharmacy</td>\n      <td>Fast Food Restaurant</td>\n      <td>Market</td>\n      <td>Pizza Place</td>\n      <td>Restaurant</td>\n      <td>Sandwich Place</td>\n      <td>Trail</td>\n      <td>Hockey Arena</td>\n      <td>Grocery Store</td>\n      <td>Field</td>\n      <td>Tennis Court</td>\n      <td>Discount Store</td>\n      <td>Convenience Store</td>\n      <td>Check Cashing Service</td>\n      <td>Bus Line</td>\n    </tr>\n    <tr>\n      <th>1</th>\n      <td>York</td>\n      <td>1</td>\n      <td>Check Cashing Service</td>\n      <td>Sandwich Place</td>\n      <td>Restaurant</td>\n      <td>Discount Store</td>\n      <td>Women's Store</td>\n      <td>Grocery Store</td>\n      <td>Convenience Store</td>\n      <td>Fast Food Restaurant</td>\n      <td>Field</td>\n      <td>Market</td>\n      <td>Hockey Arena</td>\n      <td>Trail</td>\n      <td>Park</td>\n      <td>Pharmacy</td>\n      <td>Pizza Place</td>\n      <td>Tennis Court</td>\n      <td>Bus Line</td>\n    </tr>\n    <tr>\n      <th>2</th>\n      <td>York</td>\n      <td>1</td>\n      <td>Tennis Court</td>\n      <td>Field</td>\n      <td>Trail</td>\n      <td>Hockey Arena</td>\n      <td>Women's Store</td>\n      <td>Grocery Store</td>\n      <td>Check Cashing Service</td>\n      <td>Convenience Store</td>\n      <td>Discount Store</td>\n      <td>Fast Food Restaurant</td>\n      <td>Market</td>\n      <td>Park</td>\n      <td>Pharmacy</td>\n      <td>Pizza Place</td>\n      <td>Restaurant</td>\n      <td>Sandwich Place</td>\n      <td>Bus Line</td>\n    </tr>\n    <tr>\n      <th>3</th>\n      <td>York</td>\n      <td>1</td>\n      <td>Bus Line</td>\n      <td>Convenience Store</td>\n      <td>Pizza Place</td>\n      <td>Grocery Store</td>\n      <td>Hockey Arena</td>\n      <td>Check Cashing Service</td>\n      <td>Discount Store</td>\n      <td>Fast Food Restaurant</td>\n      <td>Field</td>\n      <td>Women's Store</td>\n      <td>Trail</td>\n      <td>Park</td>\n      <td>Pharmacy</td>\n      <td>Restaurant</td>\n      <td>Sandwich Place</td>\n      <td>Tennis Court</td>\n      <td>Market</td>\n    </tr>\n  </tbody>\n</table>\n</div>",
                        "text/plain": "  Borough  Cluster Labels  1st Most Common Venue 2nd Most Common Venue  \\\n0    York               1                   Park         Women's Store   \n1    York               1  Check Cashing Service        Sandwich Place   \n2    York               1           Tennis Court                 Field   \n3    York               1               Bus Line     Convenience Store   \n\n  3rd Most Common Venue 4th Most Common Venue 5th Most Common Venue  \\\n0              Pharmacy  Fast Food Restaurant                Market   \n1            Restaurant        Discount Store         Women's Store   \n2                 Trail          Hockey Arena         Women's Store   \n3           Pizza Place         Grocery Store          Hockey Arena   \n\n   6th Most Common Venue  7th Most Common Venue 8th Most Common Venue  \\\n0            Pizza Place             Restaurant        Sandwich Place   \n1          Grocery Store      Convenience Store  Fast Food Restaurant   \n2          Grocery Store  Check Cashing Service     Convenience Store   \n3  Check Cashing Service         Discount Store  Fast Food Restaurant   \n\n  9th Most Common Venue 10th Most Common Venue 11th Most Common Venue  \\\n0                 Trail           Hockey Arena          Grocery Store   \n1                 Field                 Market           Hockey Arena   \n2        Discount Store   Fast Food Restaurant                 Market   \n3                 Field          Women's Store                  Trail   \n\n  12th Most Common Venue 13th Most Common Venue 14th Most Common Venue  \\\n0                  Field           Tennis Court         Discount Store   \n1                  Trail                   Park               Pharmacy   \n2                   Park               Pharmacy            Pizza Place   \n3                   Park               Pharmacy             Restaurant   \n\n  15th Most Common Venue 16th Most Common Venue 17th Most Common Venue  \n0      Convenience Store  Check Cashing Service               Bus Line  \n1            Pizza Place           Tennis Court               Bus Line  \n2             Restaurant         Sandwich Place               Bus Line  \n3         Sandwich Place           Tennis Court                 Market  "
                    },
                    "execution_count": 219,
                    "metadata": {},
                    "output_type": "execute_result"
                }
            ]
        },
        {
            "metadata": {},
            "cell_type": "markdown",
            "source": "#### The other neigbourhoods, also have parks but are are futher away from the highway, as can be seen on the map, their most common venues are check cashing services, tennis courts and a bus line etc. As this cluster is in a greener area, I'd prefer to live there!"
        },
        {
            "metadata": {},
            "cell_type": "markdown",
            "source": "## 3.5. Q3_ notebook on Github repository. (3 marks)"
        },
        {
            "metadata": {},
            "cell_type": "markdown",
            "source": "This notebook is an assignment for a course on **Coursera** called *Applied Data Science Capstone*, you can take this course online by clicking [here](http://cocl.us/DP0701EN_Coursera_Week3_LAB2)."
        }
    ],
    "metadata": {
        "kernelspec": {
            "name": "python3",
            "display_name": "Python 3.6",
            "language": "python"
        },
        "language_info": {
            "name": "python",
            "version": "3.6.8",
            "mimetype": "text/x-python",
            "codemirror_mode": {
                "name": "ipython",
                "version": 3
            },
            "pygments_lexer": "ipython3",
            "nbconvert_exporter": "python",
            "file_extension": ".py"
        },
        "widgets": {
            "state": {},
            "version": "1.1.2"
        }
    },
    "nbformat": 4,
    "nbformat_minor": 2
}